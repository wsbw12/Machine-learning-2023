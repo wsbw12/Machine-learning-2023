{
 "cells": [
  {
   "cell_type": "code",
   "execution_count": 35,
   "id": "281f1617",
   "metadata": {},
   "outputs": [],
   "source": [
    "import tensorflow as tf\n",
    "import numpy as np\n",
    "import pandas as pd\n",
    "import matplotlib.pyplot as plt"
   ]
  },
  {
   "cell_type": "code",
   "execution_count": 36,
   "id": "be76ada7",
   "metadata": {},
   "outputs": [],
   "source": [
    "a=tf.constant([1,2,3,1,1])\n",
    "b=tf.constant([0,1,3,4,5])\n",
    "c=tf.where(tf.greater(a,b),a,b) # 若a>b，返回a对应位置的元素，否则返回b对应位置的元素"
   ]
  },
  {
   "cell_type": "code",
   "execution_count": 37,
   "id": "44b6a1e5",
   "metadata": {},
   "outputs": [
    {
     "data": {
      "text/plain": [
       "<tf.Tensor: shape=(5,), dtype=int32, numpy=array([1, 2, 3, 4, 5], dtype=int32)>"
      ]
     },
     "execution_count": 37,
     "metadata": {},
     "output_type": "execute_result"
    }
   ],
   "source": [
    "c"
   ]
  },
  {
   "cell_type": "code",
   "execution_count": 38,
   "id": "d1816d41",
   "metadata": {},
   "outputs": [],
   "source": [
    "rdm=np.random.RandomState(seed=1)\n",
    "a=rdm.rand()\n",
    "b=rdm.rand(2,3)"
   ]
  },
  {
   "cell_type": "code",
   "execution_count": 39,
   "id": "c1b80cc2",
   "metadata": {},
   "outputs": [
    {
     "data": {
      "text/plain": [
       "0.417022004702574"
      ]
     },
     "execution_count": 39,
     "metadata": {},
     "output_type": "execute_result"
    }
   ],
   "source": [
    "a"
   ]
  },
  {
   "cell_type": "code",
   "execution_count": 40,
   "id": "e23b76ff",
   "metadata": {},
   "outputs": [
    {
     "data": {
      "text/plain": [
       "array([[7.20324493e-01, 1.14374817e-04, 3.02332573e-01],\n",
       "       [1.46755891e-01, 9.23385948e-02, 1.86260211e-01]])"
      ]
     },
     "execution_count": 40,
     "metadata": {},
     "output_type": "execute_result"
    }
   ],
   "source": [
    "b"
   ]
  },
  {
   "cell_type": "code",
   "execution_count": 41,
   "id": "69d6d984",
   "metadata": {},
   "outputs": [],
   "source": [
    "a=np.array([1,2,3])\n",
    "b=np.array([4,5,6])\n",
    "c=np.vstack((a,b))"
   ]
  },
  {
   "cell_type": "code",
   "execution_count": 42,
   "id": "3451ad20",
   "metadata": {},
   "outputs": [
    {
     "data": {
      "text/plain": [
       "array([1, 2, 3, 4, 5, 6])"
      ]
     },
     "execution_count": 42,
     "metadata": {},
     "output_type": "execute_result"
    }
   ],
   "source": [
    "d=np.hstack((a,b))\n",
    "d"
   ]
  },
  {
   "cell_type": "code",
   "execution_count": 43,
   "id": "b8bbc310",
   "metadata": {},
   "outputs": [
    {
     "data": {
      "text/plain": [
       "array([[1, 2, 3],\n",
       "       [4, 5, 6]])"
      ]
     },
     "execution_count": 43,
     "metadata": {},
     "output_type": "execute_result"
    }
   ],
   "source": [
    "c"
   ]
  },
  {
   "cell_type": "code",
   "execution_count": 44,
   "id": "3f9e8f40",
   "metadata": {},
   "outputs": [],
   "source": [
    "x,y=np.mgrid[1:3:1,2:4:0.5] # 生成等间隔数值点 "
   ]
  },
  {
   "cell_type": "code",
   "execution_count": 45,
   "id": "1eadb986",
   "metadata": {},
   "outputs": [
    {
     "data": {
      "text/plain": [
       "array([[1., 1., 1., 1.],\n",
       "       [2., 2., 2., 2.]])"
      ]
     },
     "execution_count": 45,
     "metadata": {},
     "output_type": "execute_result"
    }
   ],
   "source": [
    "x"
   ]
  },
  {
   "cell_type": "code",
   "execution_count": 46,
   "id": "72f95449",
   "metadata": {},
   "outputs": [
    {
     "data": {
      "text/plain": [
       "array([[2. , 2.5, 3. , 3.5],\n",
       "       [2. , 2.5, 3. , 3.5]])"
      ]
     },
     "execution_count": 46,
     "metadata": {},
     "output_type": "execute_result"
    }
   ],
   "source": [
    "y"
   ]
  },
  {
   "cell_type": "code",
   "execution_count": 47,
   "id": "bdeb8cab",
   "metadata": {},
   "outputs": [
    {
     "data": {
      "text/plain": [
       "array([1., 1., 1., 1., 2., 2., 2., 2.])"
      ]
     },
     "execution_count": 47,
     "metadata": {},
     "output_type": "execute_result"
    }
   ],
   "source": [
    "x.ravel() # 将x拉直"
   ]
  },
  {
   "cell_type": "code",
   "execution_count": 48,
   "id": "d02d1f96",
   "metadata": {},
   "outputs": [
    {
     "data": {
      "text/plain": [
       "array([2. , 2.5, 3. , 3.5, 2. , 2.5, 3. , 3.5])"
      ]
     },
     "execution_count": 48,
     "metadata": {},
     "output_type": "execute_result"
    }
   ],
   "source": [
    "y.ravel()"
   ]
  },
  {
   "cell_type": "code",
   "execution_count": 49,
   "id": "6945beb3",
   "metadata": {},
   "outputs": [
    {
     "data": {
      "text/plain": [
       "array([[1. , 2. ],\n",
       "       [1. , 2.5],\n",
       "       [1. , 3. ],\n",
       "       [1. , 3.5],\n",
       "       [2. , 2. ],\n",
       "       [2. , 2.5],\n",
       "       [2. , 3. ],\n",
       "       [2. , 3.5]])"
      ]
     },
     "execution_count": 49,
     "metadata": {},
     "output_type": "execute_result"
    }
   ],
   "source": [
    "# 将x, y拉直，并合并配对为二维张量，生成二维坐标点\n",
    "grid=np.c_[x.ravel(),y.ravel()]\n",
    "grid"
   ]
  },
  {
   "cell_type": "markdown",
   "id": "b5d067a9",
   "metadata": {},
   "source": [
    "#### 使用均方误差作为损失函数"
   ]
  },
  {
   "cell_type": "code",
   "execution_count": 50,
   "id": "61488fdd",
   "metadata": {},
   "outputs": [],
   "source": [
    "## 使用均方误差作为损失函数\n",
    "rdm=np.random.RandomState() # 生成[0,1)之间的随机数\n",
    "x=rdm.rand(3,2) # x为生成3行2列并且数据在[0,1)之间的随机数"
   ]
  },
  {
   "cell_type": "code",
   "execution_count": 51,
   "id": "6b288284",
   "metadata": {},
   "outputs": [
    {
     "data": {
      "text/plain": [
       "array([[0.11109202, 0.55807018],\n",
       "       [0.34009063, 0.39887964],\n",
       "       [0.10987777, 0.29229748]])"
      ]
     },
     "execution_count": 51,
     "metadata": {},
     "output_type": "execute_result"
    }
   ],
   "source": [
    "x"
   ]
  },
  {
   "cell_type": "code",
   "execution_count": 52,
   "id": "febec493",
   "metadata": {},
   "outputs": [
    {
     "name": "stdout",
     "output_type": "stream",
     "text": [
      "0.11109202492039383\n",
      "0.5580701760912975\n",
      "-----\n",
      "0.3400906309575653\n",
      "0.3988796423526333\n",
      "-----\n",
      "0.10987776852524322\n",
      "0.2922974777925582\n",
      "-----\n"
     ]
    }
   ],
   "source": [
    "for x1,x2 in x:\n",
    "    print(x1)\n",
    "    print(x2)\n",
    "    print(\"-----\")"
   ]
  },
  {
   "cell_type": "code",
   "execution_count": 53,
   "id": "de230409",
   "metadata": {},
   "outputs": [
    {
     "data": {
      "text/plain": [
       "[[0.6599501369321633], [0.7269809834337161], [0.4041195353523103]]"
      ]
     },
     "execution_count": 53,
     "metadata": {},
     "output_type": "execute_result"
    }
   ],
   "source": [
    "y_ = [[x1 + x2 + (rdm.rand() / 10.0 - 0.05)] for (x1, x2) in x]   # 生成噪声[0,1)/10=[0,0.1); [0,0.1)-0.05=[-0.05,0.05)\n",
    "y_"
   ]
  },
  {
   "cell_type": "code",
   "execution_count": 54,
   "id": "56aec395",
   "metadata": {},
   "outputs": [],
   "source": [
    "x=tf.cast(x,dtype=tf.float32)"
   ]
  },
  {
   "cell_type": "code",
   "execution_count": 55,
   "id": "ff438102",
   "metadata": {},
   "outputs": [],
   "source": [
    "w1=tf.Variable(tf.random.normal([2,1],stddev=1,seed=1))"
   ]
  },
  {
   "cell_type": "code",
   "execution_count": 56,
   "id": "f88b93ab",
   "metadata": {},
   "outputs": [
    {
     "name": "stdout",
     "output_type": "stream",
     "text": [
      "After 0 training steps,w1 is \n",
      "[[1.3588443 ]\n",
      " [0.54195863]] \n",
      "\n",
      "After 500 training steps,w1 is \n",
      "[[1.3836937 ]\n",
      " [0.63085437]] \n",
      "\n",
      "After 1000 training steps,w1 is \n",
      "[[1.3956923 ]\n",
      " [0.68995994]] \n",
      "\n",
      "After 1500 training steps,w1 is \n",
      "[[1.3995051]\n",
      " [0.7298117]] \n",
      "\n",
      "After 2000 training steps,w1 is \n",
      "[[1.3981383]\n",
      " [0.7572061]] \n",
      "\n",
      "After 2500 training steps,w1 is \n",
      "[[1.393528 ]\n",
      " [0.7765244]] \n",
      "\n",
      "After 3000 training steps,w1 is \n",
      "[[1.3869194]\n",
      " [0.7905944]] \n",
      "\n",
      "After 3500 training steps,w1 is \n",
      "[[1.3791134 ]\n",
      " [0.80123895]] \n",
      "\n",
      "After 4000 training steps,w1 is \n",
      "[[1.3706249 ]\n",
      " [0.80963564]] \n",
      "\n",
      "After 4500 training steps,w1 is \n",
      "[[1.3617822 ]\n",
      " [0.81654423]] \n",
      "\n",
      "After 5000 training steps,w1 is \n",
      "[[1.3527966]\n",
      " [0.8224566]] \n",
      "\n",
      "After 5500 training steps,w1 is \n",
      "[[1.3437976]\n",
      " [0.8276892]] \n",
      "\n",
      "After 6000 training steps,w1 is \n",
      "[[1.3348798 ]\n",
      " [0.83244836]] \n",
      "\n",
      "After 6500 training steps,w1 is \n",
      "[[1.3260841]\n",
      " [0.8368671]] \n",
      "\n",
      "After 7000 training steps,w1 is \n",
      "[[1.3174452 ]\n",
      " [0.84103227]] \n",
      "\n",
      "After 7500 training steps,w1 is \n",
      "[[1.3089839]\n",
      " [0.8450014]] \n",
      "\n",
      "After 8000 training steps,w1 is \n",
      "[[1.3007094]\n",
      " [0.8488119]] \n",
      "\n",
      "After 8500 training steps,w1 is \n",
      "[[1.2926251]\n",
      " [0.8524878]] \n",
      "\n",
      "After 9000 training steps,w1 is \n",
      "[[1.2847319]\n",
      " [0.8560475]] \n",
      "\n",
      "After 9500 training steps,w1 is \n",
      "[[1.277029 ]\n",
      " [0.8595013]] \n",
      "\n",
      "After 10000 training steps,w1 is \n",
      "[[1.2695155 ]\n",
      " [0.86285836]] \n",
      "\n",
      "After 10500 training steps,w1 is \n",
      "[[1.262189  ]\n",
      " [0.86612475]] \n",
      "\n",
      "After 11000 training steps,w1 is \n",
      "[[1.2550439 ]\n",
      " [0.86930543]] \n",
      "\n",
      "After 11500 training steps,w1 is \n",
      "[[1.2480762]\n",
      " [0.8724036]] \n",
      "\n",
      "After 12000 training steps,w1 is \n",
      "[[1.2412827]\n",
      " [0.8754207]] \n",
      "\n",
      "After 12500 training steps,w1 is \n",
      "[[1.2346612 ]\n",
      " [0.87836283]] \n",
      "\n",
      "After 13000 training steps,w1 is \n",
      "[[1.228205 ]\n",
      " [0.8812285]] \n",
      "\n",
      "After 13500 training steps,w1 is \n",
      "[[1.2219088]\n",
      " [0.884024 ]] \n",
      "\n",
      "After 14000 training steps,w1 is \n",
      "[[1.2157711]\n",
      " [0.8867468]] \n",
      "\n",
      "After 14500 training steps,w1 is \n",
      "[[1.2097888]\n",
      " [0.8894017]] \n",
      "\n",
      "Final w1 is:  [[1.2039655 ]\n",
      " [0.89198565]]\n"
     ]
    }
   ],
   "source": [
    "epoch=15000\n",
    "lr=0.002 # 学习率\n",
    "for epoch in range(epoch):\n",
    "    with tf.GradientTape() as tape:\n",
    "        y=tf.matmul(x,w1)\n",
    "        loss_mse=tf.reduce_mean(tf.square(y_-y))\n",
    "    grads=tape.gradient(loss_mse,w1)\n",
    "    w1.assign_sub(lr*grads)\n",
    "    if epoch%500==0:\n",
    "        print(\"After %d training steps,w1 is \" % (epoch))\n",
    "        print(w1.numpy(),\"\\n\")\n",
    "print(\"Final w1 is: \",w1.numpy())"
   ]
  },
  {
   "cell_type": "markdown",
   "id": "0c90e9ba",
   "metadata": {},
   "source": [
    "#### 交叉熵损失函数"
   ]
  },
  {
   "cell_type": "code",
   "execution_count": 57,
   "id": "571d133f",
   "metadata": {},
   "outputs": [],
   "source": [
    "loss_ce1=tf.losses.categorical_crossentropy([1,0],[0.6,0.4])\n",
    "loss_ce2=tf.losses.categorical_crossentropy([1,0],[0.8,0.2])"
   ]
  },
  {
   "cell_type": "code",
   "execution_count": 58,
   "id": "311c29f7",
   "metadata": {},
   "outputs": [
    {
     "data": {
      "text/plain": [
       "0.5108256"
      ]
     },
     "execution_count": 58,
     "metadata": {},
     "output_type": "execute_result"
    }
   ],
   "source": [
    "loss_ce1.numpy()"
   ]
  },
  {
   "cell_type": "code",
   "execution_count": 59,
   "id": "3e528048",
   "metadata": {},
   "outputs": [
    {
     "data": {
      "text/plain": [
       "0.22314353"
      ]
     },
     "execution_count": 59,
     "metadata": {},
     "output_type": "execute_result"
    }
   ],
   "source": [
    "loss_ce2.numpy()"
   ]
  },
  {
   "cell_type": "code",
   "execution_count": 60,
   "id": "c35ae8cb",
   "metadata": {},
   "outputs": [],
   "source": [
    "# softmax与交叉熵损失函数的结合\n",
    "y_ = np.array([[1, 0, 0], [0, 1, 0], [0, 0, 1], [1, 0, 0], [0, 1, 0]])\n",
    "y = np.array([[12, 3, 2], [3, 10, 1], [1, 2, 5], [4, 6.5, 1.2], [3, 6, 1]])\n",
    "y_pro = tf.nn.softmax(y)\n",
    "loss_ce1 = tf.losses.categorical_crossentropy(y_,y_pro)\n",
    "loss_ce2 = tf.nn.softmax_cross_entropy_with_logits(y_, y) # 相当于前两步的整合"
   ]
  },
  {
   "cell_type": "code",
   "execution_count": 61,
   "id": "0cfa024b",
   "metadata": {},
   "outputs": [
    {
     "data": {
      "text/plain": [
       "array([1.68795487e-04, 1.03475622e-03, 6.58839038e-02, 2.58349207e+00,\n",
       "       5.49852354e-02])"
      ]
     },
     "execution_count": 61,
     "metadata": {},
     "output_type": "execute_result"
    }
   ],
   "source": [
    "loss_ce1.numpy()"
   ]
  },
  {
   "cell_type": "code",
   "execution_count": 62,
   "id": "247558d7",
   "metadata": {},
   "outputs": [
    {
     "data": {
      "text/plain": [
       "array([1.68795487e-04, 1.03475622e-03, 6.58839038e-02, 2.58349207e+00,\n",
       "       5.49852354e-02])"
      ]
     },
     "execution_count": 62,
     "metadata": {},
     "output_type": "execute_result"
    }
   ],
   "source": [
    "loss_ce2.numpy()"
   ]
  },
  {
   "cell_type": "code",
   "execution_count": 63,
   "id": "55e7e35d",
   "metadata": {},
   "outputs": [],
   "source": [
    "xx,yy=np.mgrid[-3:3:0.01,-3:3:0.01]"
   ]
  },
  {
   "cell_type": "code",
   "execution_count": 64,
   "id": "d8a9a1c7",
   "metadata": {},
   "outputs": [
    {
     "data": {
      "text/plain": [
       "array([[-3.  , -3.  , -3.  , ..., -3.  , -3.  , -3.  ],\n",
       "       [-2.99, -2.99, -2.99, ..., -2.99, -2.99, -2.99],\n",
       "       [-2.98, -2.98, -2.98, ..., -2.98, -2.98, -2.98],\n",
       "       ...,\n",
       "       [ 2.97,  2.97,  2.97, ...,  2.97,  2.97,  2.97],\n",
       "       [ 2.98,  2.98,  2.98, ...,  2.98,  2.98,  2.98],\n",
       "       [ 2.99,  2.99,  2.99, ...,  2.99,  2.99,  2.99]])"
      ]
     },
     "execution_count": 64,
     "metadata": {},
     "output_type": "execute_result"
    }
   ],
   "source": [
    "xx"
   ]
  },
  {
   "cell_type": "code",
   "execution_count": null,
   "id": "94a6d300",
   "metadata": {},
   "outputs": [],
   "source": []
  }
 ],
 "metadata": {
  "kernelspec": {
   "display_name": "Python 3 (ipykernel)",
   "language": "python",
   "name": "python3"
  },
  "language_info": {
   "codemirror_mode": {
    "name": "ipython",
    "version": 3
   },
   "file_extension": ".py",
   "mimetype": "text/x-python",
   "name": "python",
   "nbconvert_exporter": "python",
   "pygments_lexer": "ipython3",
   "version": "3.10.13"
  }
 },
 "nbformat": 4,
 "nbformat_minor": 5
}
