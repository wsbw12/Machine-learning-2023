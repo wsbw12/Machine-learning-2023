{
 "cells": [
  {
   "cell_type": "code",
   "execution_count": 1,
   "id": "3980c2e6",
   "metadata": {},
   "outputs": [],
   "source": [
    "import numpy as np\n",
    "X=2*np.random.rand(100,1)\n",
    "y=4+3*X+np.random.rand(100,1)"
   ]
  },
  {
   "cell_type": "code",
   "execution_count": 2,
   "id": "91d429f6",
   "metadata": {},
   "outputs": [
    {
     "data": {
      "image/png": "[encoded data removed]",
      "text/plain": [
       "<Figure size 640x480 with 1 Axes>"
      ]
     },
     "metadata": {},
     "output_type": "display_data"
    }
   ],
   "source": [
    "import matplotlib.pyplot as plt\n",
    "plt.scatter(X,y,c='b')\n",
    "plt.show()"
   ]
  },
  {
   "cell_type": "code",
   "execution_count": 4,
   "id": "283f240e",
   "metadata": {},
   "outputs": [
    {
     "data": {
      "text/plain": [
       "array([[1.31778643e+00],\n",
       "       [3.52788761e-01],\n",
       "       [6.60938289e-02],\n",
       "       [1.61441327e+00],\n",
       "       [1.99563838e+00],\n",
       "       [1.86937210e+00],\n",
       "       [5.93693439e-02],\n",
       "       [1.67053360e+00],\n",
       "       [4.37366297e-01],\n",
       "       [1.20952914e+00],\n",
       "       [3.46492282e-02],\n",
       "       [8.89233567e-02],\n",
       "       [6.10521645e-01],\n",
       "       [7.62982679e-01],\n",
       "       [1.62906520e+00],\n",
       "       [1.08846332e+00],\n",
       "       [6.70628245e-01],\n",
       "       [1.61529270e+00],\n",
       "       [8.82645008e-01],\n",
       "       [1.50057530e+00],\n",
       "       [8.30256911e-01],\n",
       "       [1.04912460e+00],\n",
       "       [1.08286639e+00],\n",
       "       [9.90718932e-01],\n",
       "       [1.49901434e+00],\n",
       "       [1.84512961e+00],\n",
       "       [9.71556305e-02],\n",
       "       [6.12832299e-01],\n",
       "       [7.49454710e-01],\n",
       "       [1.13647250e+00],\n",
       "       [1.24145247e+00],\n",
       "       [4.42867728e-01],\n",
       "       [9.13367778e-01],\n",
       "       [7.44286504e-01],\n",
       "       [1.36672361e-01],\n",
       "       [1.81366493e+00],\n",
       "       [1.18798037e+00],\n",
       "       [7.24733778e-01],\n",
       "       [1.84348097e+00],\n",
       "       [2.52187047e-01],\n",
       "       [1.81134271e+00],\n",
       "       [3.84050621e-01],\n",
       "       [1.65929152e+00],\n",
       "       [1.93297724e+00],\n",
       "       [2.37778206e-01],\n",
       "       [1.74271774e+00],\n",
       "       [1.48031615e+00],\n",
       "       [9.09016112e-01],\n",
       "       [1.44254114e-01],\n",
       "       [6.42814859e-01],\n",
       "       [8.44940989e-02],\n",
       "       [1.21705281e+00],\n",
       "       [5.23435400e-01],\n",
       "       [1.20731563e+00],\n",
       "       [1.74649527e+00],\n",
       "       [5.26941117e-01],\n",
       "       [9.99847211e-01],\n",
       "       [2.45845584e-01],\n",
       "       [1.81980947e+00],\n",
       "       [1.52145524e+00],\n",
       "       [1.04836548e+00],\n",
       "       [6.67391129e-01],\n",
       "       [1.14832931e+00],\n",
       "       [1.88739443e+00],\n",
       "       [5.52461707e-01],\n",
       "       [1.44469877e+00],\n",
       "       [1.56605480e+00],\n",
       "       [1.55302350e+00],\n",
       "       [1.21423069e+00],\n",
       "       [5.73852786e-01],\n",
       "       [7.13200074e-01],\n",
       "       [5.50459681e-01],\n",
       "       [1.56508804e+00],\n",
       "       [2.17956081e-01],\n",
       "       [1.72095597e+00],\n",
       "       [5.00947643e-01],\n",
       "       [8.74678826e-01],\n",
       "       [2.03896027e-01],\n",
       "       [6.82219630e-01],\n",
       "       [1.36142014e+00],\n",
       "       [8.68460645e-02],\n",
       "       [1.64544891e+00],\n",
       "       [1.71933039e+00],\n",
       "       [3.46290702e-01],\n",
       "       [1.75026500e-02],\n",
       "       [9.67432368e-01],\n",
       "       [1.62810716e+00],\n",
       "       [1.89645929e-01],\n",
       "       [5.76508850e-02],\n",
       "       [1.13792082e+00],\n",
       "       [7.32972934e-01],\n",
       "       [1.05629021e+00],\n",
       "       [8.53169345e-01],\n",
       "       [7.70384768e-02],\n",
       "       [9.62610681e-01],\n",
       "       [1.41325570e-01],\n",
       "       [1.35574043e-03],\n",
       "       [1.43035037e+00],\n",
       "       [4.61267791e-01],\n",
       "       [1.52716075e+00]])"
      ]
     },
     "execution_count": 4,
     "metadata": {},
     "output_type": "execute_result"
    }
   ],
   "source": [
    "X"
   ]
  },
  {
   "cell_type": "code",
   "execution_count": 3,
   "id": "fd3156d4",
   "metadata": {},
   "outputs": [
    {
     "data": {
      "text/plain": [
       "array([[1.00000000e+00, 1.31778643e+00],\n",
       "       [1.00000000e+00, 3.52788761e-01],\n",
       "       [1.00000000e+00, 6.60938289e-02],\n",
       "       [1.00000000e+00, 1.61441327e+00],\n",
       "       [1.00000000e+00, 1.99563838e+00],\n",
       "       [1.00000000e+00, 1.86937210e+00],\n",
       "       [1.00000000e+00, 5.93693439e-02],\n",
       "       [1.00000000e+00, 1.67053360e+00],\n",
       "       [1.00000000e+00, 4.37366297e-01],\n",
       "       [1.00000000e+00, 1.20952914e+00],\n",
       "       [1.00000000e+00, 3.46492282e-02],\n",
       "       [1.00000000e+00, 8.89233567e-02],\n",
       "       [1.00000000e+00, 6.10521645e-01],\n",
       "       [1.00000000e+00, 7.62982679e-01],\n",
       "       [1.00000000e+00, 1.62906520e+00],\n",
       "       [1.00000000e+00, 1.08846332e+00],\n",
       "       [1.00000000e+00, 6.70628245e-01],\n",
       "       [1.00000000e+00, 1.61529270e+00],\n",
       "       [1.00000000e+00, 8.82645008e-01],\n",
       "       [1.00000000e+00, 1.50057530e+00],\n",
       "       [1.00000000e+00, 8.30256911e-01],\n",
       "       [1.00000000e+00, 1.04912460e+00],\n",
       "       [1.00000000e+00, 1.08286639e+00],\n",
       "       [1.00000000e+00, 9.90718932e-01],\n",
       "       [1.00000000e+00, 1.49901434e+00],\n",
       "       [1.00000000e+00, 1.84512961e+00],\n",
       "       [1.00000000e+00, 9.71556305e-02],\n",
       "       [1.00000000e+00, 6.12832299e-01],\n",
       "       [1.00000000e+00, 7.49454710e-01],\n",
       "       [1.00000000e+00, 1.13647250e+00],\n",
       "       [1.00000000e+00, 1.24145247e+00],\n",
       "       [1.00000000e+00, 4.42867728e-01],\n",
       "       [1.00000000e+00, 9.13367778e-01],\n",
       "       [1.00000000e+00, 7.44286504e-01],\n",
       "       [1.00000000e+00, 1.36672361e-01],\n",
       "       [1.00000000e+00, 1.81366493e+00],\n",
       "       [1.00000000e+00, 1.18798037e+00],\n",
       "       [1.00000000e+00, 7.24733778e-01],\n",
       "       [1.00000000e+00, 1.84348097e+00],\n",
       "       [1.00000000e+00, 2.52187047e-01],\n",
       "       [1.00000000e+00, 1.81134271e+00],\n",
       "       [1.00000000e+00, 3.84050621e-01],\n",
       "       [1.00000000e+00, 1.65929152e+00],\n",
       "       [1.00000000e+00, 1.93297724e+00],\n",
       "       [1.00000000e+00, 2.37778206e-01],\n",
       "       [1.00000000e+00, 1.74271774e+00],\n",
       "       [1.00000000e+00, 1.48031615e+00],\n",
       "       [1.00000000e+00, 9.09016112e-01],\n",
       "       [1.00000000e+00, 1.44254114e-01],\n",
       "       [1.00000000e+00, 6.42814859e-01],\n",
       "       [1.00000000e+00, 8.44940989e-02],\n",
       "       [1.00000000e+00, 1.21705281e+00],\n",
       "       [1.00000000e+00, 5.23435400e-01],\n",
       "       [1.00000000e+00, 1.20731563e+00],\n",
       "       [1.00000000e+00, 1.74649527e+00],\n",
       "       [1.00000000e+00, 5.26941117e-01],\n",
       "       [1.00000000e+00, 9.99847211e-01],\n",
       "       [1.00000000e+00, 2.45845584e-01],\n",
       "       [1.00000000e+00, 1.81980947e+00],\n",
       "       [1.00000000e+00, 1.52145524e+00],\n",
       "       [1.00000000e+00, 1.04836548e+00],\n",
       "       [1.00000000e+00, 6.67391129e-01],\n",
       "       [1.00000000e+00, 1.14832931e+00],\n",
       "       [1.00000000e+00, 1.88739443e+00],\n",
       "       [1.00000000e+00, 5.52461707e-01],\n",
       "       [1.00000000e+00, 1.44469877e+00],\n",
       "       [1.00000000e+00, 1.56605480e+00],\n",
       "       [1.00000000e+00, 1.55302350e+00],\n",
       "       [1.00000000e+00, 1.21423069e+00],\n",
       "       [1.00000000e+00, 5.73852786e-01],\n",
       "       [1.00000000e+00, 7.13200074e-01],\n",
       "       [1.00000000e+00, 5.50459681e-01],\n",
       "       [1.00000000e+00, 1.56508804e+00],\n",
       "       [1.00000000e+00, 2.17956081e-01],\n",
       "       [1.00000000e+00, 1.72095597e+00],\n",
       "       [1.00000000e+00, 5.00947643e-01],\n",
       "       [1.00000000e+00, 8.74678826e-01],\n",
       "       [1.00000000e+00, 2.03896027e-01],\n",
       "       [1.00000000e+00, 6.82219630e-01],\n",
       "       [1.00000000e+00, 1.36142014e+00],\n",
       "       [1.00000000e+00, 8.68460645e-02],\n",
       "       [1.00000000e+00, 1.64544891e+00],\n",
       "       [1.00000000e+00, 1.71933039e+00],\n",
       "       [1.00000000e+00, 3.46290702e-01],\n",
       "       [1.00000000e+00, 1.75026500e-02],\n",
       "       [1.00000000e+00, 9.67432368e-01],\n",
       "       [1.00000000e+00, 1.62810716e+00],\n",
       "       [1.00000000e+00, 1.89645929e-01],\n",
       "       [1.00000000e+00, 5.76508850e-02],\n",
       "       [1.00000000e+00, 1.13792082e+00],\n",
       "       [1.00000000e+00, 7.32972934e-01],\n",
       "       [1.00000000e+00, 1.05629021e+00],\n",
       "       [1.00000000e+00, 8.53169345e-01],\n",
       "       [1.00000000e+00, 7.70384768e-02],\n",
       "       [1.00000000e+00, 9.62610681e-01],\n",
       "       [1.00000000e+00, 1.41325570e-01],\n",
       "       [1.00000000e+00, 1.35574043e-03],\n",
       "       [1.00000000e+00, 1.43035037e+00],\n",
       "       [1.00000000e+00, 4.61267791e-01],\n",
       "       [1.00000000e+00, 1.52716075e+00]])"
      ]
     },
     "execution_count": 3,
     "metadata": {},
     "output_type": "execute_result"
    }
   ],
   "source": [
    "X_b=np.c_[np.ones((100,1)),X] # 给X增加一列全为数据1的列\n",
    "X_b"
   ]
  },
  {
   "cell_type": "code",
   "execution_count": 5,
   "id": "fae527af",
   "metadata": {},
   "outputs": [],
   "source": [
    "theta_best=np.linalg.inv(X_b.T.dot(X_b)).dot(X_b.T).dot(y) # np.linalg.inv 是用于求解矩阵的逆函数"
   ]
  },
  {
   "cell_type": "code",
   "execution_count": 6,
   "id": "bfad8718",
   "metadata": {},
   "outputs": [
    {
     "data": {
      "text/plain": [
       "array([[4.47863693],\n",
       "       [3.04037867]])"
      ]
     },
     "execution_count": 6,
     "metadata": {},
     "output_type": "execute_result"
    }
   ],
   "source": [
    "theta_best # 如果y=4+3*X 无噪声存在的情况下,theta_best 应该为 [4,3]"
   ]
  },
  {
   "cell_type": "code",
   "execution_count": 7,
   "id": "aac8d4dd",
   "metadata": {},
   "outputs": [],
   "source": [
    "X_new=np.array([[0],[2]])\n",
    "X_new_b=np.c_[np.ones((2,1)),X_new]"
   ]
  },
  {
   "cell_type": "code",
   "execution_count": 8,
   "id": "225198ea",
   "metadata": {},
   "outputs": [
    {
     "data": {
      "text/plain": [
       "array([[1., 0.],\n",
       "       [1., 2.]])"
      ]
     },
     "execution_count": 8,
     "metadata": {},
     "output_type": "execute_result"
    }
   ],
   "source": [
    "X_new_b"
   ]
  },
  {
   "cell_type": "code",
   "execution_count": 9,
   "id": "d2f4ba3e",
   "metadata": {},
   "outputs": [],
   "source": [
    "y_predict=X_new_b.dot(theta_best)"
   ]
  },
  {
   "cell_type": "code",
   "execution_count": 10,
   "id": "4e80c71f",
   "metadata": {},
   "outputs": [
    {
     "data": {
      "text/plain": [
       "array([[ 4.47863693],\n",
       "       [10.55939426]])"
      ]
     },
     "execution_count": 10,
     "metadata": {},
     "output_type": "execute_result"
    }
   ],
   "source": [
    "y_predict"
   ]
  },
  {
   "cell_type": "code",
   "execution_count": 11,
   "id": "cc026ca0",
   "metadata": {},
   "outputs": [
    {
     "data": {
      "image/png": "[encoded data removed]",
      "text/plain": [
       "<Figure size 640x480 with 1 Axes>"
      ]
     },
     "metadata": {},
     "output_type": "display_data"
    }
   ],
   "source": [
    "plt.plot(X_new,y_predict,\"r-\")\n",
    "plt.plot(X,y,\"b.\")\n",
    "plt.axis([0,2,0,15])\n",
    "plt.show()"
   ]
  },
  {
   "cell_type": "code",
   "execution_count": 12,
   "id": "989d182c",
   "metadata": {},
   "outputs": [
    {
     "data": {
      "text/html": [
       "<style>#sk-container-id-1 {color: black;}#sk-container-id-1 pre{padding: 0;}#sk-container-id-1 div.sk-toggleable {background-color: white;}#sk-container-id-1 label.sk-toggleable__label {cursor: pointer;display: block;width: 100%;margin-bottom: 0;padding: 0.3em;box-sizing: border-box;text-align: center;}#sk-container-id-1 label.sk-toggleable__label-arrow:before {content: \"▸\";float: left;margin-right: 0.25em;color: #696969;}#sk-container-id-1 label.sk-toggleable__label-arrow:hover:before {color: black;}#sk-container-id-1 div.sk-estimator:hover label.sk-toggleable__label-arrow:before {color: black;}#sk-container-id-1 div.sk-toggleable__content {max-height: 0;max-width: 0;overflow: hidden;text-align: left;background-color: #f0f8ff;}#sk-container-id-1 div.sk-toggleable__content pre {margin: 0.2em;color: black;border-radius: 0.25em;background-color: #f0f8ff;}#sk-container-id-1 input.sk-toggleable__control:checked~div.sk-toggleable__content {max-height: 200px;max-width: 100%;overflow: auto;}#sk-container-id-1 input.sk-toggleable__control:checked~label.sk-toggleable__label-arrow:before {content: \"▾\";}#sk-container-id-1 div.sk-estimator input.sk-toggleable__control:checked~label.sk-toggleable__label {background-color: #d4ebff;}#sk-container-id-1 div.sk-label input.sk-toggleable__control:checked~label.sk-toggleable__label {background-color: #d4ebff;}#sk-container-id-1 input.sk-hidden--visually {border: 0;clip: rect(1px 1px 1px 1px);clip: rect(1px, 1px, 1px, 1px);height: 1px;margin: -1px;overflow: hidden;padding: 0;position: absolute;width: 1px;}#sk-container-id-1 div.sk-estimator {font-family: monospace;background-color: #f0f8ff;border: 1px dotted black;border-radius: 0.25em;box-sizing: border-box;margin-bottom: 0.5em;}#sk-container-id-1 div.sk-estimator:hover {background-color: #d4ebff;}#sk-container-id-1 div.sk-parallel-item::after {content: \"\";width: 100%;border-bottom: 1px solid gray;flex-grow: 1;}#sk-container-id-1 div.sk-label:hover label.sk-toggleable__label {background-color: #d4ebff;}#sk-container-id-1 div.sk-serial::before {content: \"\";position: absolute;border-left: 1px solid gray;box-sizing: border-box;top: 0;bottom: 0;left: 50%;z-index: 0;}#sk-container-id-1 div.sk-serial {display: flex;flex-direction: column;align-items: center;background-color: white;padding-right: 0.2em;padding-left: 0.2em;position: relative;}#sk-container-id-1 div.sk-item {position: relative;z-index: 1;}#sk-container-id-1 div.sk-parallel {display: flex;align-items: stretch;justify-content: center;background-color: white;position: relative;}#sk-container-id-1 div.sk-item::before, #sk-container-id-1 div.sk-parallel-item::before {content: \"\";position: absolute;border-left: 1px solid gray;box-sizing: border-box;top: 0;bottom: 0;left: 50%;z-index: -1;}#sk-container-id-1 div.sk-parallel-item {display: flex;flex-direction: column;z-index: 1;position: relative;background-color: white;}#sk-container-id-1 div.sk-parallel-item:first-child::after {align-self: flex-end;width: 50%;}#sk-container-id-1 div.sk-parallel-item:last-child::after {align-self: flex-start;width: 50%;}#sk-container-id-1 div.sk-parallel-item:only-child::after {width: 0;}#sk-container-id-1 div.sk-dashed-wrapped {border: 1px dashed gray;margin: 0 0.4em 0.5em 0.4em;box-sizing: border-box;padding-bottom: 0.4em;background-color: white;}#sk-container-id-1 div.sk-label label {font-family: monospace;font-weight: bold;display: inline-block;line-height: 1.2em;}#sk-container-id-1 div.sk-label-container {text-align: center;}#sk-container-id-1 div.sk-container {/* jupyter's `normalize.less` sets `[hidden] { display: none; }` but bootstrap.min.css set `[hidden] { display: none !important; }` so we also need the `!important` here to be able to override the default hidden behavior on the sphinx rendered scikit-learn.org. See: https://github.com/scikit-learn/scikit-learn/issues/21755 */display: inline-block !important;position: relative;}#sk-container-id-1 div.sk-text-repr-fallback {display: none;}</style><div id=\"sk-container-id-1\" class=\"sk-top-container\"><div class=\"sk-text-repr-fallback\"><pre>LinearRegression()</pre><b>In a Jupyter environment, please rerun this cell to show the HTML representation or trust the notebook. <br />On GitHub, the HTML representation is unable to render, please try loading this page with nbviewer.org.</b></div><div class=\"sk-container\" hidden><div class=\"sk-item\"><div class=\"sk-estimator sk-toggleable\"><input class=\"sk-toggleable__control sk-hidden--visually\" id=\"sk-estimator-id-1\" type=\"checkbox\" checked><label for=\"sk-estimator-id-1\" class=\"sk-toggleable__label sk-toggleable__label-arrow\">LinearRegression</label><div class=\"sk-toggleable__content\"><pre>LinearRegression()</pre></div></div></div></div></div>"
      ],
      "text/plain": [
       "LinearRegression()"
      ]
     },
     "execution_count": 12,
     "metadata": {},
     "output_type": "execute_result"
    }
   ],
   "source": [
    "from sklearn.linear_model import LinearRegression\n",
    "lin_reg=LinearRegression()\n",
    "lin_reg.fit(X,y)"
   ]
  },
  {
   "cell_type": "code",
   "execution_count": 13,
   "id": "2944b57f",
   "metadata": {},
   "outputs": [
    {
     "data": {
      "text/plain": [
       "array([4.47863693])"
      ]
     },
     "execution_count": 13,
     "metadata": {},
     "output_type": "execute_result"
    }
   ],
   "source": [
    "lin_reg.intercept_"
   ]
  },
  {
   "cell_type": "code",
   "execution_count": 14,
   "id": "565667e8",
   "metadata": {},
   "outputs": [
    {
     "data": {
      "text/plain": [
       "array([[3.04037867]])"
      ]
     },
     "execution_count": 14,
     "metadata": {},
     "output_type": "execute_result"
    }
   ],
   "source": [
    "lin_reg.coef_"
   ]
  },
  {
   "cell_type": "code",
   "execution_count": 15,
   "id": "714fd5e5",
   "metadata": {},
   "outputs": [
    {
     "data": {
      "text/plain": [
       "array([[ 4.47863693],\n",
       "       [10.55939426]])"
      ]
     },
     "execution_count": 15,
     "metadata": {},
     "output_type": "execute_result"
    }
   ],
   "source": [
    "lin_reg.predict(X_new)"
   ]
  },
  {
   "cell_type": "code",
   "execution_count": 16,
   "id": "3496ce84",
   "metadata": {},
   "outputs": [],
   "source": [
    "theta_best_svd,residuals,rank,s=np.linalg.lstsq(X_b,y,rcond=1e-6)"
   ]
  },
  {
   "cell_type": "code",
   "execution_count": 17,
   "id": "e36ac90b",
   "metadata": {},
   "outputs": [
    {
     "data": {
      "text/plain": [
       "array([[4.47863693],\n",
       "       [3.04037867]])"
      ]
     },
     "execution_count": 17,
     "metadata": {},
     "output_type": "execute_result"
    }
   ],
   "source": [
    "theta_best_svd"
   ]
  },
  {
   "cell_type": "code",
   "execution_count": 18,
   "id": "d06724ea",
   "metadata": {},
   "outputs": [],
   "source": [
    "eta=0.1\n",
    "n_iterations=1000\n",
    "m=100\n",
    "theta=np.random.randn(2,1)\n",
    "for iteration in range(n_iterations):\n",
    "    gradients=2/m*X_b.T.dot(X_b.dot(theta)-y)\n",
    "    theta=theta-eta*gradients"
   ]
  },
  {
   "cell_type": "code",
   "execution_count": 19,
   "id": "aa49db5b",
   "metadata": {},
   "outputs": [
    {
     "data": {
      "text/plain": [
       "array([[4.47863693],\n",
       "       [3.04037867]])"
      ]
     },
     "execution_count": 19,
     "metadata": {},
     "output_type": "execute_result"
    }
   ],
   "source": [
    "theta"
   ]
  },
  {
   "cell_type": "code",
   "execution_count": 23,
   "id": "74de24d3",
   "metadata": {},
   "outputs": [],
   "source": [
    "theta=np.array([[4.67456392],\n",
    "               [3.2348531]])"
   ]
  },
  {
   "cell_type": "code",
   "execution_count": 24,
   "id": "6bb65fbc",
   "metadata": {},
   "outputs": [],
   "source": [
    "n_epochs=50\n",
    "t0,t1=5,50\n",
    "def learning_schedule(t):\n",
    "    return t0/(t+t1)\n",
    "theta=np.random.randn(2,1)\n",
    "for epoch in range(n_epochs):\n",
    "    for i in range(m):\n",
    "        random_index=np.random.randint(m)\n",
    "        xi=X_b[random_index:random_index+1]\n",
    "        yi=y[random_index:random_index+1]\n",
    "        gradinets=2*xi.T.dot(xi.dot(theta)-yi)\n",
    "        eta=learning_schedule(epoch*m+i)\n",
    "        theta=theta-eta*gradients"
   ]
  },
  {
   "cell_type": "code",
   "execution_count": 25,
   "id": "fd32e76f",
   "metadata": {},
   "outputs": [
    {
     "data": {
      "text/plain": [
       "array([[ 1.43585298],\n",
       "       [-1.41020122]])"
      ]
     },
     "execution_count": 25,
     "metadata": {},
     "output_type": "execute_result"
    }
   ],
   "source": [
    "theta"
   ]
  },
  {
   "cell_type": "code",
   "execution_count": null,
   "id": "77f48e31",
   "metadata": {},
   "outputs": [],
   "source": [
    "n_epochs = 50\n",
    "   t0, t1 = 5, 50  # learning schedule hyperparameters\n",
    "   def learning_schedule(t):\n",
    "       return t0 / (t + t1)\n",
    "   theta = np.random.randn(2,1)  # random initialization\n",
    "   for epoch in range(n_epochs):\n",
    "       for i in range(m):\n",
    "           random_index = np.random.randint(m)\n",
    "           xi = X_b[random_index:random_index+1]\n",
    "           yi = y[random_index:random_index+1]\n",
    "           gradients = 2 * xi.T.dot(xi.dot(theta) - yi)\n",
    "           eta = learning_schedule(epoch * m + i)\n",
    "           theta = theta - eta * gradients"
   ]
  }
 ],
 "metadata": {
  "kernelspec": {
   "display_name": "Python 3 (ipykernel)",
   "language": "python",
   "name": "python3"
  },
  "language_info": {
   "codemirror_mode": {
    "name": "ipython",
    "version": 3
   },
   "file_extension": ".py",
   "mimetype": "text/x-python",
   "name": "python",
   "nbconvert_exporter": "python",
   "pygments_lexer": "ipython3",
   "version": "3.10.13"
  }
 },
 "nbformat": 4,
 "nbformat_minor": 5
}
