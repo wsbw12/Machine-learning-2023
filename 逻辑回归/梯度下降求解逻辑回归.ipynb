{
 "cells": [
  {
   "cell_type": "markdown",
   "id": "b474aa5e",
   "metadata": {},
   "source": [
    "Logistic Regression"
   ]
  },
  {
   "cell_type": "markdown",
   "id": "9ebfb118",
   "metadata": {},
   "source": [
    "The data"
   ]
  },
  {
   "cell_type": "markdown",
   "id": "105db5bd",
   "metadata": {},
   "source": [
    "我们将建立一个逻辑回归模型来预测一个学生是否被大学录取。假设你是一个大学系的管理员，你想根据两次考试的结果来决定每个申请人的录取机会。你有以前的申请人的历史数据，你可以用它作为逻辑回归的训练集。对于每一个培训例子，你有两个考试的申请人的分数和录取决定。为了做到这一点，我们将建立一个分类模型，根据考试成绩估计入学概率。\n"
   ]
  },
  {
   "cell_type": "code",
   "execution_count": 1,
   "id": "64d7c320",
   "metadata": {},
   "outputs": [],
   "source": [
    "import numpy as np\n",
    "import pandas as pd\n",
    "import matplotlib.pyplot as plt\n",
    "%matplotlib inline"
   ]
  },
  {
   "cell_type": "code",
   "execution_count": 2,
   "id": "f275036a",
   "metadata": {},
   "outputs": [
    {
     "data": {
      "text/html": [
       "<div>\n",
       "<style scoped>\n",
       "    .dataframe tbody tr th:only-of-type {\n",
       "        vertical-align: middle;\n",
       "    }\n",
       "\n",
       "    .dataframe tbody tr th {\n",
       "        vertical-align: top;\n",
       "    }\n",
       "\n",
       "    .dataframe thead th {\n",
       "        text-align: right;\n",
       "    }\n",
       "</style>\n",
       "<table border=\"1\" class=\"dataframe\">\n",
       "  <thead>\n",
       "    <tr style=\"text-align: right;\">\n",
       "      <th></th>\n",
       "      <th>Exam 1</th>\n",
       "      <th>Exam 2</th>\n",
       "      <th>Admitted</th>\n",
       "    </tr>\n",
       "  </thead>\n",
       "  <tbody>\n",
       "    <tr>\n",
       "      <th>0</th>\n",
       "      <td>34.623660</td>\n",
       "      <td>78.024693</td>\n",
       "      <td>0</td>\n",
       "    </tr>\n",
       "    <tr>\n",
       "      <th>1</th>\n",
       "      <td>30.286711</td>\n",
       "      <td>43.894998</td>\n",
       "      <td>0</td>\n",
       "    </tr>\n",
       "    <tr>\n",
       "      <th>2</th>\n",
       "      <td>35.847409</td>\n",
       "      <td>72.902198</td>\n",
       "      <td>0</td>\n",
       "    </tr>\n",
       "    <tr>\n",
       "      <th>3</th>\n",
       "      <td>60.182599</td>\n",
       "      <td>86.308552</td>\n",
       "      <td>1</td>\n",
       "    </tr>\n",
       "    <tr>\n",
       "      <th>4</th>\n",
       "      <td>79.032736</td>\n",
       "      <td>75.344376</td>\n",
       "      <td>1</td>\n",
       "    </tr>\n",
       "  </tbody>\n",
       "</table>\n",
       "</div>"
      ],
      "text/plain": [
       "      Exam 1     Exam 2  Admitted\n",
       "0  34.623660  78.024693         0\n",
       "1  30.286711  43.894998         0\n",
       "2  35.847409  72.902198         0\n",
       "3  60.182599  86.308552         1\n",
       "4  79.032736  75.344376         1"
      ]
     },
     "execution_count": 2,
     "metadata": {},
     "output_type": "execute_result"
    }
   ],
   "source": [
    "pdData=pd.read_csv('LogiReg_data.txt',header=None,names=['Exam 1','Exam 2','Admitted']) # names是自己指定列名\n",
    "pdData.head()\n",
    "# Exam 1,2是特征，admitted是判断这个人是否被录取了"
   ]
  },
  {
   "cell_type": "code",
   "execution_count": 3,
   "id": "f6301cf6",
   "metadata": {},
   "outputs": [
    {
     "data": {
      "text/plain": [
       "(100, 3)"
      ]
     },
     "execution_count": 3,
     "metadata": {},
     "output_type": "execute_result"
    }
   ],
   "source": [
    "pdData.shape"
   ]
  },
  {
   "cell_type": "markdown",
   "id": "61691e55",
   "metadata": {},
   "source": [
    "### 将原始的数据利用散点图绘制出来先观察数据的特征"
   ]
  },
  {
   "cell_type": "code",
   "execution_count": 4,
   "id": "5bc36402",
   "metadata": {},
   "outputs": [
    {
     "data": {
      "image/png": "[encoded data removed]",
      "text/plain": [
       "<Figure size 1000x500 with 1 Axes>"
      ]
     },
     "metadata": {},
     "output_type": "display_data"
    }
   ],
   "source": [
    "positive=pdData[pdData['Admitted']==1]  # 将最终结果为1的存入positive变量\n",
    "negative=pdData[pdData['Admitted']==0] #将最终结果为0的存入negative变量\n",
    "\n",
    "fig,ax=plt.subplots(figsize=(10,5)) # 制定绘制图像的画布大小\n",
    "ax.scatter(positive['Exam 1'],positive['Exam 2'],s=30,color='r',marker='o',label='Admitted')\n",
    "ax.scatter(negative['Exam 1'],negative['Exam 2'],s=30,color='b',marker='x',label='Not Admitted')\n",
    "ax.legend()\n",
    "ax.set_xlabel('Exam 1 score')\n",
    "ax.set_ylabel('Exam 2 score')\n",
    "plt.show()"
   ]
  },
  {
   "cell_type": "markdown",
   "id": "1e2813cb",
   "metadata": {},
   "source": [
    "### 观察上图其实可以发现该图两个类别可以通过一个决策边界进行区分"
   ]
  },
  {
   "cell_type": "markdown",
   "id": "6a827158",
   "metadata": {},
   "source": [
    "## The logistic regression"
   ]
  },
  {
   "cell_type": "markdown",
   "id": "e8492d43",
   "metadata": {},
   "source": [
    "目标：建立分类器（求解出三个参数 $\\theta_0         \\theta_1         \\theta_2 $）\n",
    "\n",
    "\n",
    "设定阈值，根据阈值判断录取结果\n",
    "\n",
    "### 要完成的模块\n",
    "-  `sigmoid` : 映射到概率的函数\n",
    "\n",
    "-  `model` : 返回预测结果值\n",
    "\n",
    "-  `cost` : 根据参数计算损失\n",
    "\n",
    "-  `gradient` : 计算每个参数的梯度方向\n",
    "\n",
    "-  `descent` : 进行参数更新\n",
    "\n",
    "-  `accuracy`: 计算精度"
   ]
  },
  {
   "cell_type": "markdown",
   "id": "b3663758",
   "metadata": {},
   "source": [
    "###  `sigmoid` 函数\n",
    "\n",
    "$$\n",
    "g(z) = \\frac{1}{1+e^{-z}}   \n",
    "$$"
   ]
  },
  {
   "cell_type": "code",
   "execution_count": 5,
   "id": "04d2a61b",
   "metadata": {},
   "outputs": [],
   "source": [
    "# 定义sigmoid函数\n",
    "\n",
    "def sigmoid(z):\n",
    "    return 1/(1+np.exp(-z))"
   ]
  },
  {
   "cell_type": "code",
   "execution_count": 6,
   "id": "33f2fa82",
   "metadata": {},
   "outputs": [
    {
     "data": {
      "text/plain": [
       "[<matplotlib.lines.Line2D at 0x1333cd510>]"
      ]
     },
     "execution_count": 6,
     "metadata": {},
     "output_type": "execute_result"
    },
    {
     "data": {
      "image/png": "[encoded data removed]",
      "text/plain": [
       "<Figure size 1000x500 with 1 Axes>"
      ]
     },
     "metadata": {},
     "output_type": "display_data"
    }
   ],
   "source": [
    "#绘制一下sigmoid函数的图像\n",
    "Xnums=np.arange(-10,10,0.01) # 创建x轴的坐标\n",
    "fig,ax=plt.subplots(figsize=(10,5))\n",
    "ax.plot(Xnums,sigmoid(Xnums),'b')"
   ]
  },
  {
   "cell_type": "markdown",
   "id": "bc26c414",
   "metadata": {},
   "source": [
    "### Sigmoid\n",
    "* $F:\\mathbb{R} \\to [0,1]$\n",
    "* $F(0)=0.5$\n",
    "* $F(- \\infty)=0$\n",
    "* $F(+ \\infty)=1$"
   ]
  },
  {
   "cell_type": "markdown",
   "id": "55e460b4",
   "metadata": {},
   "source": [
    "#### 首先计算y=wx+b 再将y的值作为自变量传入Sigmoid函数之中"
   ]
  },
  {
   "cell_type": "markdown",
   "id": "189a2f21",
   "metadata": {},
   "source": [
    "$$\n",
    "\\begin{array}{ccc}\n",
    "\\begin{pmatrix}\\theta_{0} & \\theta_{1} & \\theta_{2}\\end{pmatrix} & \\times & \\begin{pmatrix}1\\\\\n",
    "x_{1}\\\\\n",
    "x_{2}\n",
    "\\end{pmatrix}\\end{array}=\\theta_{0}+\\theta_{1}x_{1}+\\theta_{2}x_{2}\n",
    "$$"
   ]
  },
  {
   "cell_type": "code",
   "execution_count": 7,
   "id": "003b68d8",
   "metadata": {},
   "outputs": [],
   "source": [
    "def modle(X,theta):\n",
    "    return sigmoid(np.dot(X,theta.T))"
   ]
  },
  {
   "cell_type": "code",
   "execution_count": 8,
   "id": "de7af189",
   "metadata": {},
   "outputs": [
    {
     "data": {
      "text/html": [
       "<div>\n",
       "<style scoped>\n",
       "    .dataframe tbody tr th:only-of-type {\n",
       "        vertical-align: middle;\n",
       "    }\n",
       "\n",
       "    .dataframe tbody tr th {\n",
       "        vertical-align: top;\n",
       "    }\n",
       "\n",
       "    .dataframe thead th {\n",
       "        text-align: right;\n",
       "    }\n",
       "</style>\n",
       "<table border=\"1\" class=\"dataframe\">\n",
       "  <thead>\n",
       "    <tr style=\"text-align: right;\">\n",
       "      <th></th>\n",
       "      <th>One</th>\n",
       "      <th>Exam 1</th>\n",
       "      <th>Exam 2</th>\n",
       "      <th>Admitted</th>\n",
       "    </tr>\n",
       "  </thead>\n",
       "  <tbody>\n",
       "    <tr>\n",
       "      <th>0</th>\n",
       "      <td>1</td>\n",
       "      <td>34.623660</td>\n",
       "      <td>78.024693</td>\n",
       "      <td>0</td>\n",
       "    </tr>\n",
       "    <tr>\n",
       "      <th>1</th>\n",
       "      <td>1</td>\n",
       "      <td>30.286711</td>\n",
       "      <td>43.894998</td>\n",
       "      <td>0</td>\n",
       "    </tr>\n",
       "    <tr>\n",
       "      <th>2</th>\n",
       "      <td>1</td>\n",
       "      <td>35.847409</td>\n",
       "      <td>72.902198</td>\n",
       "      <td>0</td>\n",
       "    </tr>\n",
       "    <tr>\n",
       "      <th>3</th>\n",
       "      <td>1</td>\n",
       "      <td>60.182599</td>\n",
       "      <td>86.308552</td>\n",
       "      <td>1</td>\n",
       "    </tr>\n",
       "    <tr>\n",
       "      <th>4</th>\n",
       "      <td>1</td>\n",
       "      <td>79.032736</td>\n",
       "      <td>75.344376</td>\n",
       "      <td>1</td>\n",
       "    </tr>\n",
       "  </tbody>\n",
       "</table>\n",
       "</div>"
      ],
      "text/plain": [
       "   One     Exam 1     Exam 2  Admitted\n",
       "0    1  34.623660  78.024693         0\n",
       "1    1  30.286711  43.894998         0\n",
       "2    1  35.847409  72.902198         0\n",
       "3    1  60.182599  86.308552         1\n",
       "4    1  79.032736  75.344376         1"
      ]
     },
     "execution_count": 8,
     "metadata": {},
     "output_type": "execute_result"
    }
   ],
   "source": [
    "#在原始数据中新加入一列,使该列的数据全为1\n",
    "pdData.insert(0,'One',1) # 列名是one \n",
    "pdData.head()"
   ]
  },
  {
   "cell_type": "code",
   "execution_count": 9,
   "id": "e08769f3",
   "metadata": {},
   "outputs": [
    {
     "data": {
      "text/plain": [
       "array([[ 1.        , 34.62365962, 78.02469282,  0.        ],\n",
       "       [ 1.        , 30.28671077, 43.89499752,  0.        ],\n",
       "       [ 1.        , 35.84740877, 72.90219803,  0.        ],\n",
       "       [ 1.        , 60.18259939, 86.3085521 ,  1.        ],\n",
       "       [ 1.        , 79.03273605, 75.34437644,  1.        ],\n",
       "       [ 1.        , 45.08327748, 56.31637178,  0.        ],\n",
       "       [ 1.        , 61.10666454, 96.51142588,  1.        ],\n",
       "       [ 1.        , 75.02474557, 46.55401354,  1.        ],\n",
       "       [ 1.        , 76.0987867 , 87.42056972,  1.        ],\n",
       "       [ 1.        , 84.43281996, 43.53339331,  1.        ],\n",
       "       [ 1.        , 95.86155507, 38.22527806,  0.        ],\n",
       "       [ 1.        , 75.01365839, 30.60326323,  0.        ],\n",
       "       [ 1.        , 82.30705337, 76.4819633 ,  1.        ],\n",
       "       [ 1.        , 69.36458876, 97.71869196,  1.        ],\n",
       "       [ 1.        , 39.53833914, 76.03681085,  0.        ],\n",
       "       [ 1.        , 53.97105215, 89.20735014,  1.        ],\n",
       "       [ 1.        , 69.07014406, 52.74046973,  1.        ],\n",
       "       [ 1.        , 67.94685548, 46.67857411,  0.        ],\n",
       "       [ 1.        , 70.66150955, 92.92713789,  1.        ],\n",
       "       [ 1.        , 76.97878373, 47.57596365,  1.        ],\n",
       "       [ 1.        , 67.37202755, 42.83843832,  0.        ],\n",
       "       [ 1.        , 89.67677575, 65.79936593,  1.        ],\n",
       "       [ 1.        , 50.53478829, 48.85581153,  0.        ],\n",
       "       [ 1.        , 34.21206098, 44.2095286 ,  0.        ],\n",
       "       [ 1.        , 77.92409145, 68.97235999,  1.        ],\n",
       "       [ 1.        , 62.27101367, 69.95445795,  1.        ],\n",
       "       [ 1.        , 80.19018075, 44.82162893,  1.        ],\n",
       "       [ 1.        , 93.1143888 , 38.80067034,  0.        ],\n",
       "       [ 1.        , 61.83020602, 50.25610789,  0.        ],\n",
       "       [ 1.        , 38.7858038 , 64.99568096,  0.        ],\n",
       "       [ 1.        , 61.37928945, 72.80788731,  1.        ],\n",
       "       [ 1.        , 85.40451939, 57.05198398,  1.        ],\n",
       "       [ 1.        , 52.10797973, 63.12762377,  0.        ],\n",
       "       [ 1.        , 52.04540477, 69.43286012,  1.        ],\n",
       "       [ 1.        , 40.23689374, 71.16774802,  0.        ],\n",
       "       [ 1.        , 54.63510555, 52.21388588,  0.        ],\n",
       "       [ 1.        , 33.91550011, 98.86943574,  0.        ],\n",
       "       [ 1.        , 64.17698887, 80.90806059,  1.        ],\n",
       "       [ 1.        , 74.78925296, 41.57341523,  0.        ],\n",
       "       [ 1.        , 34.18364003, 75.23772034,  0.        ],\n",
       "       [ 1.        , 83.90239366, 56.30804622,  1.        ],\n",
       "       [ 1.        , 51.54772027, 46.85629026,  0.        ],\n",
       "       [ 1.        , 94.44336777, 65.56892161,  1.        ],\n",
       "       [ 1.        , 82.36875376, 40.61825516,  0.        ],\n",
       "       [ 1.        , 51.04775177, 45.82270146,  0.        ],\n",
       "       [ 1.        , 62.22267576, 52.06099195,  0.        ],\n",
       "       [ 1.        , 77.19303493, 70.4582    ,  1.        ],\n",
       "       [ 1.        , 97.77159928, 86.72782233,  1.        ],\n",
       "       [ 1.        , 62.0730638 , 96.76882412,  1.        ],\n",
       "       [ 1.        , 91.5649745 , 88.69629255,  1.        ],\n",
       "       [ 1.        , 79.94481794, 74.16311935,  1.        ],\n",
       "       [ 1.        , 99.27252693, 60.999031  ,  1.        ],\n",
       "       [ 1.        , 90.54671411, 43.39060181,  1.        ],\n",
       "       [ 1.        , 34.52451385, 60.39634246,  0.        ],\n",
       "       [ 1.        , 50.28649612, 49.80453881,  0.        ],\n",
       "       [ 1.        , 49.58667722, 59.80895099,  0.        ],\n",
       "       [ 1.        , 97.64563396, 68.86157272,  1.        ],\n",
       "       [ 1.        , 32.57720017, 95.59854761,  0.        ],\n",
       "       [ 1.        , 74.24869137, 69.82457123,  1.        ],\n",
       "       [ 1.        , 71.79646206, 78.45356225,  1.        ],\n",
       "       [ 1.        , 75.39561147, 85.75993667,  1.        ],\n",
       "       [ 1.        , 35.28611282, 47.02051395,  0.        ],\n",
       "       [ 1.        , 56.2538175 , 39.26147251,  0.        ],\n",
       "       [ 1.        , 30.05882245, 49.59297387,  0.        ],\n",
       "       [ 1.        , 44.66826172, 66.45008615,  0.        ],\n",
       "       [ 1.        , 66.56089447, 41.09209808,  0.        ],\n",
       "       [ 1.        , 40.45755098, 97.53518549,  1.        ],\n",
       "       [ 1.        , 49.07256322, 51.88321182,  0.        ],\n",
       "       [ 1.        , 80.27957401, 92.11606081,  1.        ],\n",
       "       [ 1.        , 66.74671857, 60.99139403,  1.        ],\n",
       "       [ 1.        , 32.72283304, 43.30717306,  0.        ],\n",
       "       [ 1.        , 64.03932042, 78.03168802,  1.        ],\n",
       "       [ 1.        , 72.34649423, 96.22759297,  1.        ],\n",
       "       [ 1.        , 60.45788574, 73.0949981 ,  1.        ],\n",
       "       [ 1.        , 58.84095622, 75.85844831,  1.        ],\n",
       "       [ 1.        , 99.8278578 , 72.36925193,  1.        ],\n",
       "       [ 1.        , 47.26426911, 88.475865  ,  1.        ],\n",
       "       [ 1.        , 50.4581598 , 75.80985953,  1.        ],\n",
       "       [ 1.        , 60.45555629, 42.50840944,  0.        ],\n",
       "       [ 1.        , 82.22666158, 42.71987854,  0.        ],\n",
       "       [ 1.        , 88.91389642, 69.8037889 ,  1.        ],\n",
       "       [ 1.        , 94.83450672, 45.6943068 ,  1.        ],\n",
       "       [ 1.        , 67.31925747, 66.58935318,  1.        ],\n",
       "       [ 1.        , 57.23870632, 59.51428198,  1.        ],\n",
       "       [ 1.        , 80.366756  , 90.9601479 ,  1.        ],\n",
       "       [ 1.        , 68.46852179, 85.5943071 ,  1.        ],\n",
       "       [ 1.        , 42.07545454, 78.844786  ,  0.        ],\n",
       "       [ 1.        , 75.47770201, 90.424539  ,  1.        ],\n",
       "       [ 1.        , 78.63542435, 96.64742717,  1.        ],\n",
       "       [ 1.        , 52.34800399, 60.76950526,  0.        ],\n",
       "       [ 1.        , 94.09433113, 77.15910509,  1.        ],\n",
       "       [ 1.        , 90.44855097, 87.50879176,  1.        ],\n",
       "       [ 1.        , 55.48216114, 35.57070347,  0.        ],\n",
       "       [ 1.        , 74.49269242, 84.84513685,  1.        ],\n",
       "       [ 1.        , 89.84580671, 45.35828361,  1.        ],\n",
       "       [ 1.        , 83.48916274, 48.3802858 ,  1.        ],\n",
       "       [ 1.        , 42.26170081, 87.10385094,  1.        ],\n",
       "       [ 1.        , 99.31500881, 68.77540947,  1.        ],\n",
       "       [ 1.        , 55.34001756, 64.93193801,  1.        ],\n",
       "       [ 1.        , 74.775893  , 89.5298129 ,  1.        ]])"
      ]
     },
     "execution_count": 9,
     "metadata": {},
     "output_type": "execute_result"
    }
   ],
   "source": [
    "## 设置训练集和目标集\n",
    "orig_data = pdData.iloc[:,:].values # 将其转化为数组的形式方便计算\n",
    "orig_data"
   ]
  },
  {
   "cell_type": "code",
   "execution_count": 10,
   "id": "b537d872",
   "metadata": {},
   "outputs": [],
   "source": [
    "cols = orig_data.shape[1] # 找到数据的列数\n",
    "X = orig_data[:,0:cols-1] \n",
    "y = orig_data[:,cols-1:cols]"
   ]
  },
  {
   "cell_type": "code",
   "execution_count": 11,
   "id": "f2e6cb8b",
   "metadata": {},
   "outputs": [
    {
     "data": {
      "text/plain": [
       "array([[ 1.        , 34.62365962, 78.02469282],\n",
       "       [ 1.        , 30.28671077, 43.89499752],\n",
       "       [ 1.        , 35.84740877, 72.90219803],\n",
       "       [ 1.        , 60.18259939, 86.3085521 ],\n",
       "       [ 1.        , 79.03273605, 75.34437644],\n",
       "       [ 1.        , 45.08327748, 56.31637178],\n",
       "       [ 1.        , 61.10666454, 96.51142588],\n",
       "       [ 1.        , 75.02474557, 46.55401354],\n",
       "       [ 1.        , 76.0987867 , 87.42056972],\n",
       "       [ 1.        , 84.43281996, 43.53339331],\n",
       "       [ 1.        , 95.86155507, 38.22527806],\n",
       "       [ 1.        , 75.01365839, 30.60326323],\n",
       "       [ 1.        , 82.30705337, 76.4819633 ],\n",
       "       [ 1.        , 69.36458876, 97.71869196],\n",
       "       [ 1.        , 39.53833914, 76.03681085],\n",
       "       [ 1.        , 53.97105215, 89.20735014],\n",
       "       [ 1.        , 69.07014406, 52.74046973],\n",
       "       [ 1.        , 67.94685548, 46.67857411],\n",
       "       [ 1.        , 70.66150955, 92.92713789],\n",
       "       [ 1.        , 76.97878373, 47.57596365],\n",
       "       [ 1.        , 67.37202755, 42.83843832],\n",
       "       [ 1.        , 89.67677575, 65.79936593],\n",
       "       [ 1.        , 50.53478829, 48.85581153],\n",
       "       [ 1.        , 34.21206098, 44.2095286 ],\n",
       "       [ 1.        , 77.92409145, 68.97235999],\n",
       "       [ 1.        , 62.27101367, 69.95445795],\n",
       "       [ 1.        , 80.19018075, 44.82162893],\n",
       "       [ 1.        , 93.1143888 , 38.80067034],\n",
       "       [ 1.        , 61.83020602, 50.25610789],\n",
       "       [ 1.        , 38.7858038 , 64.99568096],\n",
       "       [ 1.        , 61.37928945, 72.80788731],\n",
       "       [ 1.        , 85.40451939, 57.05198398],\n",
       "       [ 1.        , 52.10797973, 63.12762377],\n",
       "       [ 1.        , 52.04540477, 69.43286012],\n",
       "       [ 1.        , 40.23689374, 71.16774802],\n",
       "       [ 1.        , 54.63510555, 52.21388588],\n",
       "       [ 1.        , 33.91550011, 98.86943574],\n",
       "       [ 1.        , 64.17698887, 80.90806059],\n",
       "       [ 1.        , 74.78925296, 41.57341523],\n",
       "       [ 1.        , 34.18364003, 75.23772034],\n",
       "       [ 1.        , 83.90239366, 56.30804622],\n",
       "       [ 1.        , 51.54772027, 46.85629026],\n",
       "       [ 1.        , 94.44336777, 65.56892161],\n",
       "       [ 1.        , 82.36875376, 40.61825516],\n",
       "       [ 1.        , 51.04775177, 45.82270146],\n",
       "       [ 1.        , 62.22267576, 52.06099195],\n",
       "       [ 1.        , 77.19303493, 70.4582    ],\n",
       "       [ 1.        , 97.77159928, 86.72782233],\n",
       "       [ 1.        , 62.0730638 , 96.76882412],\n",
       "       [ 1.        , 91.5649745 , 88.69629255],\n",
       "       [ 1.        , 79.94481794, 74.16311935],\n",
       "       [ 1.        , 99.27252693, 60.999031  ],\n",
       "       [ 1.        , 90.54671411, 43.39060181],\n",
       "       [ 1.        , 34.52451385, 60.39634246],\n",
       "       [ 1.        , 50.28649612, 49.80453881],\n",
       "       [ 1.        , 49.58667722, 59.80895099],\n",
       "       [ 1.        , 97.64563396, 68.86157272],\n",
       "       [ 1.        , 32.57720017, 95.59854761],\n",
       "       [ 1.        , 74.24869137, 69.82457123],\n",
       "       [ 1.        , 71.79646206, 78.45356225],\n",
       "       [ 1.        , 75.39561147, 85.75993667],\n",
       "       [ 1.        , 35.28611282, 47.02051395],\n",
       "       [ 1.        , 56.2538175 , 39.26147251],\n",
       "       [ 1.        , 30.05882245, 49.59297387],\n",
       "       [ 1.        , 44.66826172, 66.45008615],\n",
       "       [ 1.        , 66.56089447, 41.09209808],\n",
       "       [ 1.        , 40.45755098, 97.53518549],\n",
       "       [ 1.        , 49.07256322, 51.88321182],\n",
       "       [ 1.        , 80.27957401, 92.11606081],\n",
       "       [ 1.        , 66.74671857, 60.99139403],\n",
       "       [ 1.        , 32.72283304, 43.30717306],\n",
       "       [ 1.        , 64.03932042, 78.03168802],\n",
       "       [ 1.        , 72.34649423, 96.22759297],\n",
       "       [ 1.        , 60.45788574, 73.0949981 ],\n",
       "       [ 1.        , 58.84095622, 75.85844831],\n",
       "       [ 1.        , 99.8278578 , 72.36925193],\n",
       "       [ 1.        , 47.26426911, 88.475865  ],\n",
       "       [ 1.        , 50.4581598 , 75.80985953],\n",
       "       [ 1.        , 60.45555629, 42.50840944],\n",
       "       [ 1.        , 82.22666158, 42.71987854],\n",
       "       [ 1.        , 88.91389642, 69.8037889 ],\n",
       "       [ 1.        , 94.83450672, 45.6943068 ],\n",
       "       [ 1.        , 67.31925747, 66.58935318],\n",
       "       [ 1.        , 57.23870632, 59.51428198],\n",
       "       [ 1.        , 80.366756  , 90.9601479 ],\n",
       "       [ 1.        , 68.46852179, 85.5943071 ],\n",
       "       [ 1.        , 42.07545454, 78.844786  ],\n",
       "       [ 1.        , 75.47770201, 90.424539  ],\n",
       "       [ 1.        , 78.63542435, 96.64742717],\n",
       "       [ 1.        , 52.34800399, 60.76950526],\n",
       "       [ 1.        , 94.09433113, 77.15910509],\n",
       "       [ 1.        , 90.44855097, 87.50879176],\n",
       "       [ 1.        , 55.48216114, 35.57070347],\n",
       "       [ 1.        , 74.49269242, 84.84513685],\n",
       "       [ 1.        , 89.84580671, 45.35828361],\n",
       "       [ 1.        , 83.48916274, 48.3802858 ],\n",
       "       [ 1.        , 42.26170081, 87.10385094],\n",
       "       [ 1.        , 99.31500881, 68.77540947],\n",
       "       [ 1.        , 55.34001756, 64.93193801],\n",
       "       [ 1.        , 74.775893  , 89.5298129 ]])"
      ]
     },
     "execution_count": 11,
     "metadata": {},
     "output_type": "execute_result"
    }
   ],
   "source": [
    "X"
   ]
  },
  {
   "cell_type": "code",
   "execution_count": 12,
   "id": "4935127e",
   "metadata": {},
   "outputs": [
    {
     "data": {
      "text/plain": [
       "array([[0.],\n",
       "       [0.],\n",
       "       [0.],\n",
       "       [1.],\n",
       "       [1.],\n",
       "       [0.],\n",
       "       [1.],\n",
       "       [1.],\n",
       "       [1.],\n",
       "       [1.],\n",
       "       [0.],\n",
       "       [0.],\n",
       "       [1.],\n",
       "       [1.],\n",
       "       [0.],\n",
       "       [1.],\n",
       "       [1.],\n",
       "       [0.],\n",
       "       [1.],\n",
       "       [1.],\n",
       "       [0.],\n",
       "       [1.],\n",
       "       [0.],\n",
       "       [0.],\n",
       "       [1.],\n",
       "       [1.],\n",
       "       [1.],\n",
       "       [0.],\n",
       "       [0.],\n",
       "       [0.],\n",
       "       [1.],\n",
       "       [1.],\n",
       "       [0.],\n",
       "       [1.],\n",
       "       [0.],\n",
       "       [0.],\n",
       "       [0.],\n",
       "       [1.],\n",
       "       [0.],\n",
       "       [0.],\n",
       "       [1.],\n",
       "       [0.],\n",
       "       [1.],\n",
       "       [0.],\n",
       "       [0.],\n",
       "       [0.],\n",
       "       [1.],\n",
       "       [1.],\n",
       "       [1.],\n",
       "       [1.],\n",
       "       [1.],\n",
       "       [1.],\n",
       "       [1.],\n",
       "       [0.],\n",
       "       [0.],\n",
       "       [0.],\n",
       "       [1.],\n",
       "       [0.],\n",
       "       [1.],\n",
       "       [1.],\n",
       "       [1.],\n",
       "       [0.],\n",
       "       [0.],\n",
       "       [0.],\n",
       "       [0.],\n",
       "       [0.],\n",
       "       [1.],\n",
       "       [0.],\n",
       "       [1.],\n",
       "       [1.],\n",
       "       [0.],\n",
       "       [1.],\n",
       "       [1.],\n",
       "       [1.],\n",
       "       [1.],\n",
       "       [1.],\n",
       "       [1.],\n",
       "       [1.],\n",
       "       [0.],\n",
       "       [0.],\n",
       "       [1.],\n",
       "       [1.],\n",
       "       [1.],\n",
       "       [1.],\n",
       "       [1.],\n",
       "       [1.],\n",
       "       [0.],\n",
       "       [1.],\n",
       "       [1.],\n",
       "       [0.],\n",
       "       [1.],\n",
       "       [1.],\n",
       "       [0.],\n",
       "       [1.],\n",
       "       [1.],\n",
       "       [1.],\n",
       "       [1.],\n",
       "       [1.],\n",
       "       [1.],\n",
       "       [1.]])"
      ]
     },
     "execution_count": 12,
     "metadata": {},
     "output_type": "execute_result"
    }
   ],
   "source": [
    "y "
   ]
  },
  {
   "cell_type": "code",
   "execution_count": 13,
   "id": "694e594d",
   "metadata": {},
   "outputs": [],
   "source": [
    "theta = np.zeros([1, 3]) # 初试的时候将theta设置为0向量"
   ]
  },
  {
   "cell_type": "code",
   "execution_count": 14,
   "id": "e340e089",
   "metadata": {},
   "outputs": [
    {
     "data": {
      "text/plain": [
       "((100, 3), (100, 1), (1, 3))"
      ]
     },
     "execution_count": 14,
     "metadata": {},
     "output_type": "execute_result"
    }
   ],
   "source": [
    "X.shape, y.shape, theta.shape"
   ]
  },
  {
   "cell_type": "markdown",
   "id": "f4941fd9",
   "metadata": {},
   "source": [
    "### 损失函数\n",
    "将对数似然函数去负号\n",
    "\n",
    "$$\n",
    "D(h_\\theta(x), y) = -y\\log(h_\\theta(x)) - (1-y)\\log(1-h_\\theta(x))\n",
    "$$\n",
    "求平均损失\n",
    "$$\n",
    "J(\\theta)=\\frac{1}{n}\\sum_{i=1}^{n} D(h_\\theta(x_i), y_i)\n",
    "$$"
   ]
  },
  {
   "cell_type": "code",
   "execution_count": 15,
   "id": "0ce080fa",
   "metadata": {},
   "outputs": [
    {
     "data": {
      "text/plain": [
       "array([[0.5],\n",
       "       [0.5],\n",
       "       [0.5],\n",
       "       [0.5],\n",
       "       [0.5],\n",
       "       [0.5],\n",
       "       [0.5],\n",
       "       [0.5],\n",
       "       [0.5],\n",
       "       [0.5],\n",
       "       [0.5],\n",
       "       [0.5],\n",
       "       [0.5],\n",
       "       [0.5],\n",
       "       [0.5],\n",
       "       [0.5],\n",
       "       [0.5],\n",
       "       [0.5],\n",
       "       [0.5],\n",
       "       [0.5],\n",
       "       [0.5],\n",
       "       [0.5],\n",
       "       [0.5],\n",
       "       [0.5],\n",
       "       [0.5],\n",
       "       [0.5],\n",
       "       [0.5],\n",
       "       [0.5],\n",
       "       [0.5],\n",
       "       [0.5],\n",
       "       [0.5],\n",
       "       [0.5],\n",
       "       [0.5],\n",
       "       [0.5],\n",
       "       [0.5],\n",
       "       [0.5],\n",
       "       [0.5],\n",
       "       [0.5],\n",
       "       [0.5],\n",
       "       [0.5],\n",
       "       [0.5],\n",
       "       [0.5],\n",
       "       [0.5],\n",
       "       [0.5],\n",
       "       [0.5],\n",
       "       [0.5],\n",
       "       [0.5],\n",
       "       [0.5],\n",
       "       [0.5],\n",
       "       [0.5],\n",
       "       [0.5],\n",
       "       [0.5],\n",
       "       [0.5],\n",
       "       [0.5],\n",
       "       [0.5],\n",
       "       [0.5],\n",
       "       [0.5],\n",
       "       [0.5],\n",
       "       [0.5],\n",
       "       [0.5],\n",
       "       [0.5],\n",
       "       [0.5],\n",
       "       [0.5],\n",
       "       [0.5],\n",
       "       [0.5],\n",
       "       [0.5],\n",
       "       [0.5],\n",
       "       [0.5],\n",
       "       [0.5],\n",
       "       [0.5],\n",
       "       [0.5],\n",
       "       [0.5],\n",
       "       [0.5],\n",
       "       [0.5],\n",
       "       [0.5],\n",
       "       [0.5],\n",
       "       [0.5],\n",
       "       [0.5],\n",
       "       [0.5],\n",
       "       [0.5],\n",
       "       [0.5],\n",
       "       [0.5],\n",
       "       [0.5],\n",
       "       [0.5],\n",
       "       [0.5],\n",
       "       [0.5],\n",
       "       [0.5],\n",
       "       [0.5],\n",
       "       [0.5],\n",
       "       [0.5],\n",
       "       [0.5],\n",
       "       [0.5],\n",
       "       [0.5],\n",
       "       [0.5],\n",
       "       [0.5],\n",
       "       [0.5],\n",
       "       [0.5],\n",
       "       [0.5],\n",
       "       [0.5],\n",
       "       [0.5]])"
      ]
     },
     "execution_count": 15,
     "metadata": {},
     "output_type": "execute_result"
    }
   ],
   "source": [
    "modle(X,theta)"
   ]
  },
  {
   "cell_type": "code",
   "execution_count": 16,
   "id": "67855e5d",
   "metadata": {},
   "outputs": [
    {
     "data": {
      "text/plain": [
       "array([[-0.69314718],\n",
       "       [-0.69314718],\n",
       "       [-0.69314718],\n",
       "       [-0.69314718],\n",
       "       [-0.69314718],\n",
       "       [-0.69314718],\n",
       "       [-0.69314718],\n",
       "       [-0.69314718],\n",
       "       [-0.69314718],\n",
       "       [-0.69314718],\n",
       "       [-0.69314718],\n",
       "       [-0.69314718],\n",
       "       [-0.69314718],\n",
       "       [-0.69314718],\n",
       "       [-0.69314718],\n",
       "       [-0.69314718],\n",
       "       [-0.69314718],\n",
       "       [-0.69314718],\n",
       "       [-0.69314718],\n",
       "       [-0.69314718],\n",
       "       [-0.69314718],\n",
       "       [-0.69314718],\n",
       "       [-0.69314718],\n",
       "       [-0.69314718],\n",
       "       [-0.69314718],\n",
       "       [-0.69314718],\n",
       "       [-0.69314718],\n",
       "       [-0.69314718],\n",
       "       [-0.69314718],\n",
       "       [-0.69314718],\n",
       "       [-0.69314718],\n",
       "       [-0.69314718],\n",
       "       [-0.69314718],\n",
       "       [-0.69314718],\n",
       "       [-0.69314718],\n",
       "       [-0.69314718],\n",
       "       [-0.69314718],\n",
       "       [-0.69314718],\n",
       "       [-0.69314718],\n",
       "       [-0.69314718],\n",
       "       [-0.69314718],\n",
       "       [-0.69314718],\n",
       "       [-0.69314718],\n",
       "       [-0.69314718],\n",
       "       [-0.69314718],\n",
       "       [-0.69314718],\n",
       "       [-0.69314718],\n",
       "       [-0.69314718],\n",
       "       [-0.69314718],\n",
       "       [-0.69314718],\n",
       "       [-0.69314718],\n",
       "       [-0.69314718],\n",
       "       [-0.69314718],\n",
       "       [-0.69314718],\n",
       "       [-0.69314718],\n",
       "       [-0.69314718],\n",
       "       [-0.69314718],\n",
       "       [-0.69314718],\n",
       "       [-0.69314718],\n",
       "       [-0.69314718],\n",
       "       [-0.69314718],\n",
       "       [-0.69314718],\n",
       "       [-0.69314718],\n",
       "       [-0.69314718],\n",
       "       [-0.69314718],\n",
       "       [-0.69314718],\n",
       "       [-0.69314718],\n",
       "       [-0.69314718],\n",
       "       [-0.69314718],\n",
       "       [-0.69314718],\n",
       "       [-0.69314718],\n",
       "       [-0.69314718],\n",
       "       [-0.69314718],\n",
       "       [-0.69314718],\n",
       "       [-0.69314718],\n",
       "       [-0.69314718],\n",
       "       [-0.69314718],\n",
       "       [-0.69314718],\n",
       "       [-0.69314718],\n",
       "       [-0.69314718],\n",
       "       [-0.69314718],\n",
       "       [-0.69314718],\n",
       "       [-0.69314718],\n",
       "       [-0.69314718],\n",
       "       [-0.69314718],\n",
       "       [-0.69314718],\n",
       "       [-0.69314718],\n",
       "       [-0.69314718],\n",
       "       [-0.69314718],\n",
       "       [-0.69314718],\n",
       "       [-0.69314718],\n",
       "       [-0.69314718],\n",
       "       [-0.69314718],\n",
       "       [-0.69314718],\n",
       "       [-0.69314718],\n",
       "       [-0.69314718],\n",
       "       [-0.69314718],\n",
       "       [-0.69314718],\n",
       "       [-0.69314718],\n",
       "       [-0.69314718]])"
      ]
     },
     "execution_count": 16,
     "metadata": {},
     "output_type": "execute_result"
    }
   ],
   "source": [
    "np.log(modle(X,theta))"
   ]
  },
  {
   "cell_type": "code",
   "execution_count": 17,
   "id": "44c364e2",
   "metadata": {},
   "outputs": [],
   "source": [
    "left=np.multiply(-y , np.log(modle(X,theta)))"
   ]
  },
  {
   "cell_type": "code",
   "execution_count": 18,
   "id": "67c973b9",
   "metadata": {},
   "outputs": [],
   "source": [
    "right=np.multiply(1 - y,  np.log(1-modle(X,theta)))"
   ]
  },
  {
   "cell_type": "code",
   "execution_count": 19,
   "id": "801602a0",
   "metadata": {},
   "outputs": [
    {
     "data": {
      "text/plain": [
       "69.31471805599453"
      ]
     },
     "execution_count": 19,
     "metadata": {},
     "output_type": "execute_result"
    }
   ],
   "source": [
    "np.sum(left-right)"
   ]
  },
  {
   "cell_type": "code",
   "execution_count": 20,
   "id": "cdc0d86e",
   "metadata": {},
   "outputs": [
    {
     "data": {
      "text/plain": [
       "10"
      ]
     },
     "execution_count": 20,
     "metadata": {},
     "output_type": "execute_result"
    }
   ],
   "source": [
    "np.sum([1,2,3,4])"
   ]
  },
  {
   "cell_type": "code",
   "execution_count": 21,
   "id": "672e9964",
   "metadata": {},
   "outputs": [],
   "source": [
    "def cost(X,y,theta):\n",
    "    left=np.multiply(-y , np.log(modle(X,theta)))\n",
    "    right=np.multiply(1 - y,  np.log(1-modle(X,theta)))\n",
    "    return np.sum(left-right)/(len(X))"
   ]
  },
  {
   "cell_type": "code",
   "execution_count": 22,
   "id": "f1dcf480",
   "metadata": {},
   "outputs": [
    {
     "data": {
      "text/plain": [
       "0.6931471805599453"
      ]
     },
     "execution_count": 22,
     "metadata": {},
     "output_type": "execute_result"
    }
   ],
   "source": [
    "cost(X,y,theta) # 计算最初的损失值"
   ]
  },
  {
   "cell_type": "markdown",
   "id": "1f3f20e6",
   "metadata": {},
   "source": [
    "### 计算梯度\n",
    "\n",
    "\n",
    "$$\n",
    "\\frac{\\partial J}{\\partial \\theta_j}=-\\frac{1}{m}\\sum_{i=1}^n (y_i - h_\\theta (x_i))x_{ij}\n",
    "$$\n"
   ]
  },
  {
   "cell_type": "code",
   "execution_count": 23,
   "id": "8af7a7a8",
   "metadata": {},
   "outputs": [
    {
     "data": {
      "text/plain": [
       "array([ 0.5,  0.5,  0.5, -0.5, -0.5,  0.5, -0.5, -0.5, -0.5, -0.5,  0.5,\n",
       "        0.5, -0.5, -0.5,  0.5, -0.5, -0.5,  0.5, -0.5, -0.5,  0.5, -0.5,\n",
       "        0.5,  0.5, -0.5, -0.5, -0.5,  0.5,  0.5,  0.5, -0.5, -0.5,  0.5,\n",
       "       -0.5,  0.5,  0.5,  0.5, -0.5,  0.5,  0.5, -0.5,  0.5, -0.5,  0.5,\n",
       "        0.5,  0.5, -0.5, -0.5, -0.5, -0.5, -0.5, -0.5, -0.5,  0.5,  0.5,\n",
       "        0.5, -0.5,  0.5, -0.5, -0.5, -0.5,  0.5,  0.5,  0.5,  0.5,  0.5,\n",
       "       -0.5,  0.5, -0.5, -0.5,  0.5, -0.5, -0.5, -0.5, -0.5, -0.5, -0.5,\n",
       "       -0.5,  0.5,  0.5, -0.5, -0.5, -0.5, -0.5, -0.5, -0.5,  0.5, -0.5,\n",
       "       -0.5,  0.5, -0.5, -0.5,  0.5, -0.5, -0.5, -0.5, -0.5, -0.5, -0.5,\n",
       "       -0.5])"
      ]
     },
     "execution_count": 23,
     "metadata": {},
     "output_type": "execute_result"
    }
   ],
   "source": [
    "error=(modle(X,theta)-y).ravel()\n",
    "error"
   ]
  },
  {
   "cell_type": "code",
   "execution_count": 24,
   "id": "cb27c369",
   "metadata": {},
   "outputs": [],
   "source": [
    "def graident(X,y,theta):\n",
    "    grad=np.zeros(theta.shape)\n",
    "    error=(modle(X,theta)-y).ravel() #ravel() 是一个用于将多维数组降为一维数组的函数\n",
    "    for j in range(len(theta.ravel())):\n",
    "        term=np.multiply(error,X[:,j])\n",
    "        grad[0:j]=np.sum(term)/len(X)\n",
    "    return grad"
   ]
  },
  {
   "cell_type": "markdown",
   "id": "0b6016eb",
   "metadata": {},
   "source": [
    "比较3中不同梯度下降方法"
   ]
  },
  {
   "cell_type": "code",
   "execution_count": 25,
   "id": "ff1f9582",
   "metadata": {},
   "outputs": [],
   "source": [
    "stop_iter=0\n",
    "stop_cost=1\n",
    "stop_grad=2\n",
    "\n",
    "def stopCriterion(type,value,thresold):\n",
    "    ## 设定三种不同的停止策略\n",
    "    if type==stop_iter:\n",
    "        return value>thresold\n",
    "    elif type==stop_cost:\n",
    "        return abs(value[-1]-value[-2])<thresold\n",
    "    elif type==stop_grad:\n",
    "        np.linalg.norm(value)<thresold  #np.linalg.norm()用于求范数，默认为求整体元素平方和，再开根号"
   ]
  },
  {
   "cell_type": "code",
   "execution_count": 26,
   "id": "682d52b3",
   "metadata": {},
   "outputs": [],
   "source": [
    "## 再进行梯度下降的时候先对数据进行洗牌\n",
    "import numpy.random\n",
    "\n",
    "def shuffleDats(data):\n",
    "    np.random.shuffle(data)\n",
    "    cols=data.shape[1]\n",
    "    X=data[ : , : cols-1]\n",
    "    y=data[ :  , cols-1 : ]\n",
    "    return X,y"
   ]
  },
  {
   "cell_type": "code",
   "execution_count": 27,
   "id": "c86833e3",
   "metadata": {},
   "outputs": [],
   "source": [
    "import time\n",
    "# 计算梯度下降\n",
    "def descent(data,theta,batchSize,stopType,thresold,alpha):\n",
    "    init_time=time.time()\n",
    "    i=0 # 此时的迭代次数\n",
    "    k=0 \n",
    "    X,y=shuffleDats(data)\n",
    "    grad=np.zeros(theta.shape)\n",
    "    costs=[cost(X,y,theta)] # 计算此时的损失值\n",
    "    \n",
    "    while True:\n",
    "        grad=graident(X[k:k+batchSize],y[k:k+batchSize],theta)\n",
    "        k+=batchSize # 每次都取batchSize个数据\n",
    "        if k>=n:\n",
    "            k=0\n",
    "            X,y=shuffleDats(data) # 重新洗牌\n",
    "        theta=theta-alpha*grad # 进行更新梯度\n",
    "        costs.append(cost(X,y,theta)) # 计算每一次得到的新损失值\n",
    "        i+=1 # 迭代次数加1\n",
    "        \n",
    "        if stopType==stop_iter:\n",
    "            value=i\n",
    "        elif stopType==stop_cost:\n",
    "            value=costs\n",
    "        elif stopType==stop_grad:\n",
    "            value=grad\n",
    "        if stopCriterion(stopType,value,thresold):\n",
    "            break\n",
    "    return theta,i-1,costs,grad,time.time()-init_time"
   ]
  },
  {
   "cell_type": "code",
   "execution_count": 28,
   "id": "7c0053d0",
   "metadata": {},
   "outputs": [],
   "source": [
    "# 运行梯度下降看看最终的结果\n",
    "def runExpe(data,theta,batchSize,stopType,thresh,alpha):\n",
    "    theta,iters,costs,grad,during=descent(data,theta,batchSize,stopType,thresh,alpha)\n",
    "    name = \"Original\" if (data[:,1]>2).sum() > 1 else \"Scaled\"\n",
    "    name+=\" data-learning rate: {} - \".format(alpha)\n",
    "    if batchSize==n:\n",
    "        strDescType=\"Gradient\"\n",
    "    elif batchSize==1:\n",
    "        strDescType='Stochastic'\n",
    "    else:\n",
    "        strDescType=\"Mini-batch ({})\".format(batchSize)\n",
    "    name+=strDescType+\" descent-Stop: \"\n",
    "    if stopType==stop_iter:\n",
    "        strStop=\" {} iterations\".format(thresh)\n",
    "    elif stopType==stop_cost:\n",
    "        strStop=\" costs change < {}\".format(thresh)\n",
    "    else:\n",
    "        strStop=\"gradient norm < {}\".format(thresh)\n",
    "    name+=strStop\n",
    "    print (\"***{}\\nTheta: {} - Iter: {} - Last cost: {:03.2f} - Duration: {:03.2f}s\".format(\n",
    "        name, theta, iter, costs[-1], during))\n",
    "    fig,ax=plt.subplots(figsize=(12,4))\n",
    "    ax.plot(np.arange(len(costs)),costs,'r')\n",
    "    ax.set_xlabel('Iterations')\n",
    "    ax.set_ylabel('Cost')\n",
    "    ax.set_title(name.upper()+' - Erroe vs. Iteration')\n",
    "    return theta"
   ]
  },
  {
   "cell_type": "code",
   "execution_count": 29,
   "id": "73a0e9de",
   "metadata": {},
   "outputs": [
    {
     "data": {
      "text/plain": [
       "array([[0., 0., 0.]])"
      ]
     },
     "execution_count": 29,
     "metadata": {},
     "output_type": "execute_result"
    }
   ],
   "source": [
    "theta"
   ]
  },
  {
   "cell_type": "code",
   "execution_count": 30,
   "id": "df3ecbf1",
   "metadata": {},
   "outputs": [
    {
     "name": "stdout",
     "output_type": "stream",
     "text": [
      "***Original data-learning rate: 1e-06 - Gradient descent-Stop:  5000 iterations\n",
      "Theta: [[0.00515976 0.00515976 0.00515976]] - Iter: <built-in function iter> - Last cost: 0.63 - Duration: 0.35s\n"
     ]
    },
    {
     "data": {
      "text/plain": [
       "array([[0.00515976, 0.00515976, 0.00515976]])"
      ]
     },
     "execution_count": 30,
     "metadata": {},
     "output_type": "execute_result"
    },
    {
     "data": {
      "image/png": "[encoded data removed]",
      "text/plain": [
       "<Figure size 1200x400 with 1 Axes>"
      ]
     },
     "metadata": {},
     "output_type": "display_data"
    }
   ],
   "source": [
    "#选择的梯度下降方法是基于所有样本的 所以n=100\n",
    "n=100\n",
    "runExpe(orig_data, theta, n, stop_iter, thresh=5000, alpha=0.000001) # 迭代5000次"
   ]
  },
  {
   "cell_type": "code",
   "execution_count": 31,
   "id": "94f9f339",
   "metadata": {},
   "outputs": [
    {
     "name": "stdout",
     "output_type": "stream",
     "text": [
      "***Original data-learning rate: 1e-05 - Gradient descent-Stop:  5000 iterations\n",
      "Theta: [[0.00515997 0.00515997 0.00515997]] - Iter: <built-in function iter> - Last cost: 0.63 - Duration: 0.35s\n"
     ]
    },
    {
     "data": {
      "text/plain": [
       "array([[0.00515997, 0.00515997, 0.00515997]])"
      ]
     },
     "execution_count": 31,
     "metadata": {},
     "output_type": "execute_result"
    },
    {
     "data": {
      "image/png": "[encoded data removed]",
      "text/plain": [
       "<Figure size 1200x400 with 1 Axes>"
      ]
     },
     "metadata": {},
     "output_type": "display_data"
    }
   ],
   "source": [
    " #选择的梯度下降方法是基于所有样本的 （但是稍微增大学习率）\n",
    "n=100\n",
    "runExpe(orig_data, theta, n, stop_iter, thresh=5000, alpha=0.00001)"
   ]
  },
  {
   "cell_type": "code",
   "execution_count": 32,
   "id": "fbe69c22",
   "metadata": {},
   "outputs": [
    {
     "name": "stderr",
     "output_type": "stream",
     "text": [
      "/var/folders/rw/35ctk7p53dq0j0d29bgbbb0h0000gn/T/ipykernel_9148/1526963040.py:3: RuntimeWarning: divide by zero encountered in log\n",
      "  right=np.multiply(1 - y,  np.log(1-modle(X,theta)))\n",
      "/var/folders/rw/35ctk7p53dq0j0d29bgbbb0h0000gn/T/ipykernel_9148/1526963040.py:3: RuntimeWarning: invalid value encountered in multiply\n",
      "  right=np.multiply(1 - y,  np.log(1-modle(X,theta)))\n"
     ]
    },
    {
     "name": "stdout",
     "output_type": "stream",
     "text": [
      "***Original data-learning rate: 0.01 - Gradient descent-Stop:  5000 iterations\n",
      "Theta: [[0.40060268 0.40060268 0.40060268]] - Iter: <built-in function iter> - Last cost: nan - Duration: 0.35s\n"
     ]
    },
    {
     "data": {
      "text/plain": [
       "array([[0.40060268, 0.40060268, 0.40060268]])"
      ]
     },
     "execution_count": 32,
     "metadata": {},
     "output_type": "execute_result"
    },
    {
     "data": {
      "image/png": "[encoded data removed]",
      "text/plain": [
       "<Figure size 1200x400 with 1 Axes>"
      ]
     },
     "metadata": {},
     "output_type": "display_data"
    }
   ],
   "source": [
    " #选择的梯度下降方法是基于所有样本的 （过大的学习率会导致错误）\n",
    "n=100\n",
    "runExpe(orig_data, theta, n, stop_iter, thresh=5000, alpha=0.01)"
   ]
  },
  {
   "cell_type": "code",
   "execution_count": 33,
   "id": "663dcc98",
   "metadata": {},
   "outputs": [
    {
     "name": "stdout",
     "output_type": "stream",
     "text": [
      "***Original data-learning rate: 1e-07 - Gradient descent-Stop:  costs change < 1e-11\n",
      "Theta: [[0.0051599 0.0051599 0.0051599]] - Iter: <built-in function iter> - Last cost: 0.63 - Duration: 3.72s\n"
     ]
    },
    {
     "data": {
      "text/plain": [
       "array([[0.0051599, 0.0051599, 0.0051599]])"
      ]
     },
     "execution_count": 33,
     "metadata": {},
     "output_type": "execute_result"
    },
    {
     "data": {
      "image/png": "[encoded data removed]",
      "text/plain": [
       "<Figure size 1200x400 with 1 Axes>"
      ]
     },
     "metadata": {},
     "output_type": "display_data"
    }
   ],
   "source": [
    "## 根据损失值停止跌打\n",
    "runExpe(orig_data, theta, n, stop_cost, thresh=0.00000000001, alpha=0.0000001)"
   ]
  },
  {
   "cell_type": "code",
   "execution_count": 36,
   "id": "e409fc3c",
   "metadata": {},
   "outputs": [],
   "source": [
    "## 评估最后的预测结果\n",
    "\n",
    "#设定阈值\n",
    "def predict(X, theta):\n",
    "    return [1 if x >= 0.5 else 0 for x in modle(X, theta)]"
   ]
  },
  {
   "cell_type": "code",
   "execution_count": 37,
   "id": "184d438b",
   "metadata": {},
   "outputs": [
    {
     "name": "stdout",
     "output_type": "stream",
     "text": [
      "accuracy = 60%\n"
     ]
    }
   ],
   "source": [
    "scaled_X = orig_data[:, :3]\n",
    "y = orig_data[:, 3]\n",
    "predictions = predict(scaled_X, theta)\n",
    "correct = [1 if ((a == 1 and b == 1) or (a == 0 and b == 0)) else 0 for (a, b) in zip(predictions, y)]\n",
    "accuracy = (sum(map(int, correct)) % len(correct))\n",
    "print ('accuracy = {0}%'.format(accuracy))"
   ]
  }
 ],
 "metadata": {
  "kernelspec": {
   "display_name": "Python 3 (ipykernel)",
   "language": "python",
   "name": "python3"
  },
  "language_info": {
   "codemirror_mode": {
    "name": "ipython",
    "version": 3
   },
   "file_extension": ".py",
   "mimetype": "text/x-python",
   "name": "python",
   "nbconvert_exporter": "python",
   "pygments_lexer": "ipython3",
   "version": "3.10.9"
  }
 },
 "nbformat": 4,
 "nbformat_minor": 5
}
